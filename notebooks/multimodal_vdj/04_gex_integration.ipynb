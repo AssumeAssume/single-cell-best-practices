{
 "cells": [
  {
   "cell_type": "markdown",
   "id": "4813956c",
   "metadata": {},
   "source": [
    "# Content\n",
    "\n",
    "1. Introduction\n",
    "2. TCR\n",
    "\n",
    "    2.1. Unsupervised Clustering\n",
    "    \n",
    "    2.2. Database Queries\n",
    "    2.3. Distance Measurements\n",
    "    2.4. Epitope Prediction\n",
    "3. BCR\n",
    "    3.1. "
   ]
  },
  {
   "cell_type": "markdown",
   "id": "7a33cf3d",
   "metadata": {},
   "source": [
    "1. Introduction\n",
    "The Immune receptors => have specificity\n",
    "Understanding this specificicty of key interest\n",
    "experimentally expensive + set of epitopes\n",
    "Low thorughput time consuming\n",
    "=> Ideally, infer antigen specificity computationally\n",
    "=> Query to databases\n",
    "=> Several tools exist for unsupervised clustering, distance calculation, or epitope prediction\n",
    "=> no standarized benchmarks, each method reports performance on own datasets, metrics, often comparing to selection of  available methods\n",
    "\n",
    "Development of methods hindered by availability of training and testing dataset. Majority of data unpaired data of alpha and beta chain. Limited amount of epitopes with known tcr specificity. only several 100. \n",
    "Further development. Seperate methods between TCR and BCR eventhough similiar methods should work => focus on methods developed by each usecase"
   ]
  },
  {
   "cell_type": "markdown",
   "id": "5f751411",
   "metadata": {},
   "source": [
    "2. TCR\n",
    "usage of tools depends on availability of underlying data, there not only the current study, but also the databases to use e.g. IEDB example. => ERGO-II reported for prediction: cdr3b > ...\n",
    "It is to be assumed that this or similar order also hold not only for prediction but also for clustering, querying, and distance metrics."
   ]
  },
  {
   "cell_type": "markdown",
   "id": "0210128d",
   "metadata": {},
   "source": [
    "2.1. Unsupervised Clustering\n",
    "While not directly infering specificity => clusters of similar TCR sequences, likely to have similar specificities => few known TCR-epitope paires in data => assign specificity to rest of cluster\n"
   ]
  },
  {
   "cell_type": "code",
   "execution_count": null,
   "id": "129c7ab4",
   "metadata": {},
   "outputs": [],
   "source": []
  },
  {
   "cell_type": "markdown",
   "id": "3ebc1743",
   "metadata": {},
   "source": [
    "2.2. Database Queries\n",
    "Idea => query databases for already reported TCR sequences:\n",
    "common databases:\n",
    "iedb\n",
    "vdjdb\n",
    "macpas\n",
    "immuneaccess (covid)\n",
    "=> other databases and studies with public data also possible\n",
    "\n",
    "Tradeof between precision and recall as in clonotype definition: \n",
    "Query databases with various degress of overlap:\n",
    "identical cdr3 beta, vdj genes, alpha chain\n",
    "=> No rulebook yet to performance also highly case dependent (rare epitopes will require less strigent query for hits)"
   ]
  },
  {
   "cell_type": "code",
   "execution_count": null,
   "id": "e2bd683d",
   "metadata": {},
   "outputs": [],
   "source": []
  },
  {
   "cell_type": "markdown",
   "id": "c0edbf40",
   "metadata": {},
   "source": [
    "2.3. Distance metrics\n",
    "\n",
    "If no direct hits, we can infer specificity by searching for similar TCRs within the databases.\n",
    "Several distance metrics exist. \n",
    "In general three directions: \n",
    "sequence alignments => convert sequence between each other => most direct way to measure sequence similarity, gaps might interupt sequence motifs needed for TCR-Epitope interactions =>  very local search, \n",
    "kmer => similarity based on small motif segments of length k => capture preserved motifs within TCR sequences, Overall less similar sequences due to random reordering, maybe more global metric \n",
    "numeric embeddings => project TCR sequence into embedding space where nummeric distances can be calculated. => algorithm dependend, deep learning => infer this from data, however more black-box, less interpretable\n",
    "\n",
    "Since no large benchmark between theese metrics exist, on tests showed generally similar performace, we will focus on one aligment based + 1 kmer based with two different requirements of used input data:\n",
    "TCRdist for paired data => one of commenly used, requires alpha, beta + v genes \n",
    "TCRmatch for beta data alone => more recent method,  integrated into iedb"
   ]
  },
  {
   "cell_type": "code",
   "execution_count": null,
   "id": "92467317",
   "metadata": {},
   "outputs": [],
   "source": []
  },
  {
   "cell_type": "markdown",
   "id": "2e48ec8e",
   "metadata": {},
   "source": [
    "2.4. Prediction\n",
    "This alternative approach not directly relying on databases. Prediction of binding between TCR sequence and epitope directly with measuring similarity to TCRs of databases. If in study there is guess of epitope (eg. due to prior vaccination) we can try to predict binding.\n",
    "Latetly many machine learning models for predicting binding between TCR and epitope. Generally these methods perform well for epitopes with training data, but often fail to generalize for unseen epitopes.\n",
    "Therefore recommend, to investigate training data of tool in question for the epitope in question, to see whether it was contained in training data to large extend. If not these tools can provide hint, but should still be taken with caution until they are further evaluated in a standarized benchmark for their individual strengths and weaknesses."
   ]
  },
  {
   "cell_type": "code",
   "execution_count": null,
   "id": "79b6c902",
   "metadata": {},
   "outputs": [],
   "source": []
  },
  {
   "cell_type": "markdown",
   "id": "3f1cb64a",
   "metadata": {},
   "source": [
    "3. BCR\n",
    "Similiar for TCR also on BCR"
   ]
  },
  {
   "cell_type": "code",
   "execution_count": null,
   "id": "a93d3969",
   "metadata": {},
   "outputs": [],
   "source": []
  },
  {
   "cell_type": "markdown",
   "id": "7674a0da",
   "metadata": {},
   "source": [
    "3.1. Clustering"
   ]
  },
  {
   "cell_type": "code",
   "execution_count": null,
   "id": "a1a30d0f",
   "metadata": {},
   "outputs": [],
   "source": []
  },
  {
   "cell_type": "markdown",
   "id": "4e239ba1",
   "metadata": {},
   "source": [
    "3.2. Databases"
   ]
  },
  {
   "cell_type": "code",
   "execution_count": null,
   "id": "4e1789f4",
   "metadata": {},
   "outputs": [],
   "source": [
    "http://opig.stats.ox.ac.uk/webapps/covabdab/\n",
    "https://www.iedb.org/"
   ]
  },
  {
   "cell_type": "markdown",
   "id": "c979be9e",
   "metadata": {},
   "source": [
    "3.3. Distance Measurements"
   ]
  },
  {
   "cell_type": "code",
   "execution_count": null,
   "id": "96e6eb8c",
   "metadata": {},
   "outputs": [],
   "source": []
  },
  {
   "cell_type": "markdown",
   "id": "ff2879f8",
   "metadata": {},
   "source": [
    "3.4. Prediction "
   ]
  },
  {
   "cell_type": "code",
   "execution_count": null,
   "id": "d0a4f5b1",
   "metadata": {},
   "outputs": [],
   "source": []
  },
  {
   "cell_type": "markdown",
   "id": "8eab7227",
   "metadata": {},
   "source": [
    "4. Takeaways"
   ]
  }
 ],
 "metadata": {
  "kernelspec": {
   "display_name": "Python [conda env:covidVac]",
   "language": "python",
   "name": "conda-env-covidVac-py"
  },
  "language_info": {
   "codemirror_mode": {
    "name": "ipython",
    "version": 3
   },
   "file_extension": ".py",
   "mimetype": "text/x-python",
   "name": "python",
   "nbconvert_exporter": "python",
   "pygments_lexer": "ipython3",
   "version": "3.7.1"
  }
 },
 "nbformat": 4,
 "nbformat_minor": 5
}
