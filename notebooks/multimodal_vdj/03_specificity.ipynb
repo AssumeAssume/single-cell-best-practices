{
 "cells": [
  {
   "cell_type": "markdown",
   "id": "968e4f9b",
   "metadata": {},
   "source": [
    "# Outlook: Multi-modal Approaches"
   ]
  },
  {
   "cell_type": "markdown",
   "id": "4b24f557",
   "metadata": {},
   "source": [
    "1. Introduction\n",
    "2. TESSA\n",
    "3. CoNGA\n",
    "4. mvTCR\n",
    "5. Questions\n",
    "6. Take Aways"
   ]
  },
  {
   "cell_type": "markdown",
   "id": "b8c158eb",
   "metadata": {},
   "source": [
    "## 1. Introduction"
   ]
  },
  {
   "cell_type": "markdown",
   "id": "44ff54df",
   "metadata": {},
   "source": [
    "With the development of novel single cell technology, IR sequencing is combined often with other Omic-layers, especially with transcriptomics (e.g. []). For B- and T-cells this enables the analysis of various characteristics on a single cell level: while the transcriptome provides insights into the current state of the cell, the IR is indicative for the cell's specificity and thereby explains the cell's fate upon infection or vaccination. \n",
    "\n",
    "While studies often provide paired measurements for both modalities, these are often analyzed individually utilizing only limited shared information. Often the IR sequence serves mainly as a barcode to the trajectory of cells over time [] or activation states []. The transcriptomic layer however is then used to identify the ... for clonotypes of intest. However, this underutilizes the additional information provided by paired data, since IRs and gene expression have been shown to be interlinked: adaptive immune cells recognizing the same epitopes, will undergo a similar development upon activation. Therefore, it has been shown that adaptive immune cells with identical? similar IR, expressed a similar phenotype.\n",
    "\n",
    "Only recently, three methods were developed to jointly utilize TCR sequences and transcriptome each aiming at different aspects of analysis. Due to their novelty, these approaches have not been subjected to benchmark testing and a detailed external evaluation of their strength and weaknesses is therfore missing. The use of the following methods is therefor still marked as experimental for purpose of this tutorial. It may be noted that all methods were developed for TCRs in their original publication. However, due to the developmental similarity between B- and T-cells, the methods might also be applicable for B cells as well after carefull evaluation."
   ]
  },
  {
   "cell_type": "markdown",
   "id": "3dbfd9e4",
   "metadata": {},
   "source": [
    "### 1.1 Data Preparation"
   ]
  },
  {
   "cell_type": "code",
   "execution_count": 12,
   "id": "125be644",
   "metadata": {},
   "outputs": [],
   "source": [
    "import os"
   ]
  },
  {
   "cell_type": "code",
   "execution_count": 1,
   "id": "7840bf69",
   "metadata": {},
   "outputs": [],
   "source": [
    "import scanpy as sc\n",
    "import pandas as pd\n",
    "import numpy as np\n",
    "import seaborn as sb"
   ]
  },
  {
   "cell_type": "markdown",
   "id": "35f07465",
   "metadata": {},
   "source": [
    "We will load the already preprocessed data provided by the authors using scanpy for data handling."
   ]
  },
  {
   "cell_type": "code",
   "execution_count": 9,
   "id": "89f094b3",
   "metadata": {},
   "outputs": [],
   "source": [
    "path_data = '../data/haniffa21.processed.h5ad'\n",
    "adata_full = sc.read(path_data)"
   ]
  },
  {
   "cell_type": "markdown",
   "id": "9615220b",
   "metadata": {},
   "source": [
    "This dataset contains data from various immune cell types. All algorithms require paire IR-GEX data, so we will select all T-cells. We do this, be keeping only cells, where the cell type annotation is a T-cell subtype."
   ]
  },
  {
   "cell_type": "code",
   "execution_count": 10,
   "id": "ea041557",
   "metadata": {},
   "outputs": [],
   "source": [
    "tags_tcells = ['CD8', 'CD4', 'Treg', 'MAIT',]\n",
    "adata_tcr = adata_full[adata_full.obs['initial_clustering'].isin(tags_tcells)]"
   ]
  },
  {
   "cell_type": "markdown",
   "id": "3753322e",
   "metadata": {},
   "source": [
    "## 2. TESSA\n",
    "... et al developed TCR functionallandscape estimation supervised with scRNA-seq analysis (TESSA), which aims at embedding and clustering T cell clones based on their TCR sequence and transcriptome via Bayesian modelling. The CDR3beta sequence is first compressed to a 30-dimensional numeric representation using a (pretrained?, Variational?) Autoencoder. Following, the dimensions are upweighted to correlate the TCR representation with the gene expression of similar TCR-groups, thereby assigning importance of TCR position? for explaining the cells gene expression. In an interative process, weights and groups are updated until convergence to reach a maximal allignment between both modalities.\n",
    "\n",
    "TESSA produced clusters of high purity when embedding Tcells with known epitope specificity from [10x], surpasing the uni-modal model GLIPH [], which is commonly used for clustering TCR sequences. Further, cluster centrally was indicative for higher avidity clones shown by clonal expansion and high ADT counts. Using TESSA on data from [Yost], the author detected novel clusters of responder T cell in patients undergoing PD-1 blockade. "
   ]
  },
  {
   "cell_type": "markdown",
   "id": "71754c3b",
   "metadata": {},
   "source": [
    "### 2.1 Data Preperation\n",
    "TESSA requires several files in specific format:\n"
   ]
  },
  {
   "cell_type": "code",
   "execution_count": null,
   "id": "2e59e1fd",
   "metadata": {},
   "outputs": [],
   "source": []
  },
  {
   "cell_type": "markdown",
   "id": "7d5dc1cf",
   "metadata": {},
   "source": [
    "## 2.2 Running the model\n",
    "To run the model, we will need to provide different setting options, most of which specify input or output directories. We will summarize them in a dictionary first."
   ]
  },
  {
   "cell_type": "code",
   "execution_count": 13,
   "id": "92c090fe",
   "metadata": {},
   "outputs": [
    {
     "ename": "NameError",
     "evalue": "name '__file__' is not defined",
     "output_type": "error",
     "traceback": [
      "\u001b[1;31m---------------------------------------------------------------------------\u001b[0m",
      "\u001b[1;31mNameError\u001b[0m                                 Traceback (most recent call last)",
      "\u001b[1;32mC:\\Users\\FELIX~1.DRO\\AppData\\Local\\Temp/ipykernel_13492/769004108.py\u001b[0m in \u001b[0;36m<module>\u001b[1;34m\u001b[0m\n\u001b[1;32m----> 1\u001b[1;33m \u001b[0mpath_file\u001b[0m \u001b[1;33m=\u001b[0m \u001b[0mos\u001b[0m\u001b[1;33m.\u001b[0m\u001b[0mpath\u001b[0m\u001b[1;33m.\u001b[0m\u001b[0mdirname\u001b[0m\u001b[1;33m(\u001b[0m\u001b[0mos\u001b[0m\u001b[1;33m.\u001b[0m\u001b[0mpath\u001b[0m\u001b[1;33m.\u001b[0m\u001b[0mabspath\u001b[0m\u001b[1;33m(\u001b[0m\u001b[0m__file__\u001b[0m\u001b[1;33m)\u001b[0m\u001b[1;33m)\u001b[0m\u001b[1;33m\u001b[0m\u001b[1;33m\u001b[0m\u001b[0m\n\u001b[0m\u001b[0;32m      2\u001b[0m settings_full = {\n\u001b[0;32m      3\u001b[0m     \u001b[1;34m'tcr'\u001b[0m\u001b[1;33m:\u001b[0m \u001b[1;34mf'{dir_in}_tcrs_atlas.csv'\u001b[0m\u001b[1;33m,\u001b[0m\u001b[1;33m\u001b[0m\u001b[1;33m\u001b[0m\u001b[0m\n\u001b[0;32m      4\u001b[0m     \u001b[1;34m'model'\u001b[0m\u001b[1;33m:\u001b[0m \u001b[1;34mf'{path_file}/TESSA/BriseisEncoder/TrainedEncoder.h5'\u001b[0m\u001b[1;33m,\u001b[0m\u001b[1;33m\u001b[0m\u001b[1;33m\u001b[0m\u001b[0m\n\u001b[0;32m      5\u001b[0m     \u001b[1;34m'embeding_vectors'\u001b[0m\u001b[1;33m:\u001b[0m \u001b[1;34mf'{path_file}/TESSA/BriseisEncoder/Atchley_factors.csv'\u001b[0m\u001b[1;33m,\u001b[0m\u001b[1;33m\u001b[0m\u001b[1;33m\u001b[0m\u001b[0m\n",
      "\u001b[1;31mNameError\u001b[0m: name '__file__' is not defined"
     ]
    }
   ],
   "source": [
    "path_file = os.path.dirname(os.path.abspath(__file__))\n",
    "settings_full = {\n",
    "    'tcr': f'{dir_in}_tcrs_atlas.csv',\n",
    "    'model': f'{path_file}/TESSA/BriseisEncoder/TrainedEncoder.h5',\n",
    "    'embeding_vectors': f'{path_file}/TESSA/BriseisEncoder/Atchley_factors.csv',\n",
    "    'output_TCR': f'{dir_out}/tessa_tcr_embedding.csv',\n",
    "    'output_log': f'{dir_out}/tessa_log.log',\n",
    "    'exp': f'{dir_in}_scRNA_atlas.csv',\n",
    "    'output_tessa': f'{dir_out}/res/',\n",
    "    'within_sample_networks': 'FALSE',\n",
    "}"
   ]
  },
  {
   "cell_type": "markdown",
   "id": "0eed5e89",
   "metadata": {},
   "source": [
    "In the next step, we will create the command for running TESSA by adding setting key and setting option."
   ]
  },
  {
   "cell_type": "code",
   "execution_count": null,
   "id": "7d678841",
   "metadata": {},
   "outputs": [],
   "source": [
    "command_full = f'python {path_file}/TESSA/Tessa_main.py'\n",
    "for key, value in settings_full.items():\n",
    "    command_full += f' -{key} {value}'\n",
    "command_full"
   ]
  },
  {
   "cell_type": "markdown",
   "id": "8e4f8304",
   "metadata": {},
   "source": [
    "Finally, we run the model on the specified settings by calling the command."
   ]
  },
  {
   "cell_type": "code",
   "execution_count": null,
   "id": "78871af1",
   "metadata": {},
   "outputs": [],
   "source": [
    "os.system(command_full)"
   ]
  },
  {
   "cell_type": "markdown",
   "id": "6c34865a",
   "metadata": {},
   "source": [
    "## 2.3. Output"
   ]
  },
  {
   "cell_type": "code",
   "execution_count": null,
   "id": "5a3eacfe",
   "metadata": {},
   "outputs": [],
   "source": []
  },
  {
   "cell_type": "code",
   "execution_count": null,
   "id": "f98e3020",
   "metadata": {},
   "outputs": [],
   "source": []
  },
  {
   "cell_type": "markdown",
   "id": "f0668314",
   "metadata": {},
   "source": [
    "## 3. CoNGA\n",
    "clonotype neighbor graph analysis (CoNGA) uses similarity graphs at a clonotype level on GEX and TCR, for which the well known distance metric TCRDist [] is used. Based on the graph neighborhood, clusters are formed by shared GEX and TCR assignments. These so called \"CoNGA clusters\" thereby share similar receptor sequences as well as similar gene expression. \n",
    "\n",
    "CoNGA clusters contained clonotypes with highly alike TCRs based on e.g. length and physio-chemical properties and were shown to capture specificity well on []. Among other things, CoNGA was used to identified clusters of mhc-indepent HOBIT/HELIOS-type T-cells in data from []. \n",
    "\n",
    "Note, that CoNGA offers support to BCR sequences as stated on their GitHub Page. However, this was not part of the evaluation in the original publication."
   ]
  },
  {
   "cell_type": "code",
   "execution_count": null,
   "id": "1b94dc94",
   "metadata": {},
   "outputs": [],
   "source": []
  },
  {
   "cell_type": "markdown",
   "id": "2d28fde6",
   "metadata": {},
   "source": [
    "## 4. mvTCR\n",
    "mvTCR by An et al is a multiview Variational Autoencoder that compresses TCR sequence and gene expression into a lower-dimensional representation []. Two deep learning archtictures - Transformer and Multi-layer perceptron - extract information from both TCR and GEX respectively, before they are fused to derive the joint space. Following, the trained models can be used to embedd similar data. \n",
    "\n",
    "The authors showed, that multi-modal models can better capture antigen specificity, than uni-modal embeddings on the data from [] for prediction and clustering. Additionally, they showed that cell type and cell functionality are preserved in the embedding space on a SARS-CoV-2 dataset from []."
   ]
  },
  {
   "cell_type": "code",
   "execution_count": null,
   "id": "e4166f23",
   "metadata": {},
   "outputs": [],
   "source": []
  },
  {
   "cell_type": "markdown",
   "id": "be295574",
   "metadata": {},
   "source": [
    "## 5. Questions"
   ]
  },
  {
   "cell_type": "markdown",
   "id": "d22e81cf",
   "metadata": {},
   "source": [
    "Why could it be useful to integrate IR-sequence information with gene expression?\n",
    "- GEX can be used to improve IR sequence reads.\n",
    "+ Both modalities provide different insights into the cell, while still being interdependent.\n",
    "- Since both modalities capture the same information, integrating them provides an additional quality check.\n",
    "- \n",
    "\n",
    "What information provides us the IR sequence, that is not directly captured in GEX?\n",
    "- A count matrix between cell and antibody-tagged epitope bindings.\n",
    "-  \n",
    "+ The cell's clonotype and thereby cell ancestory is defined by the IR sequence.\n",
    "+ The IR sequence determines specificity and is therefor a barcode for recognizing the same epitope.\n",
    "\n",
    "On what premise rely the approaches above?\n",
    "+ Cells of same or alike IRs often have a similar phenotype.\n",
    "- Information of IR and GEX provide orthogonal information to each other, since they are independent.\n",
    "- Knowledge is transfered between large gene expression datasets into which IR data can be mapped.\n",
    "- "
   ]
  },
  {
   "cell_type": "markdown",
   "id": "a37ee504",
   "metadata": {},
   "source": [
    "## 6. Take Aways\n",
    "\n",
    "- Cell functionality (determined by IR) and cell state (observed via GEX) are interlinked. Cells with alike IR sequences share the similar phenotypes [].\n",
    "- Due to the inherent structural difference between count matrixs (GEX) and amino acid sequences (IR), it is difficult to directly fuse both modalities.\n",
    "- Several methods were developed to utilize paired GEX-IR data relying on different approaches such as Bayesian Models [], Graph Theory [], and Deep Learning [].\n",
    "- Due to the novelty of all methods and the lack of standardarized evaluation, these are not independently benchmarked yet and are hard to compare. \n",
    "- All methods were developed for TCRs. While they can in theory easily be applied on BCR data and partially offer a BCR interface (CoGNA), this was not part of the original publication and is not evaluated yet."
   ]
  }
 ],
 "metadata": {
  "kernelspec": {
   "display_name": "Python [conda env:covidVac]",
   "language": "python",
   "name": "conda-env-covidVac-py"
  },
  "language_info": {
   "codemirror_mode": {
    "name": "ipython",
    "version": 3
   },
   "file_extension": ".py",
   "mimetype": "text/x-python",
   "name": "python",
   "nbconvert_exporter": "python",
   "pygments_lexer": "ipython3",
   "version": "3.7.1"
  }
 },
 "nbformat": 4,
 "nbformat_minor": 5
}
