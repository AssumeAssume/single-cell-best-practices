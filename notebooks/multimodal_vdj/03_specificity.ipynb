{
 "cells": [
  {
   "cell_type": "markdown",
   "id": "4813956c",
   "metadata": {},
   "source": [
    "# Content\n",
    "\n",
    "1. Introduction\n",
    "2. TCR\n",
    "\n",
    "    2.1. Unsupervised Clustering\n",
    "    \n",
    "    2.2. Database Queries\n",
    "    2.3. Distance Measurements\n",
    "    2.4. Epitope Prediction\n",
    "3. BCR\n",
    "    3.1. "
   ]
  },
  {
   "cell_type": "markdown",
   "id": "7a33cf3d",
   "metadata": {},
   "source": [
    "1. Introduction\n",
    "\n",
    "B- and T-cells recognize their targets via their immune receptors (IRs) - B cell receptor (BCR), and T cell receptor (TCR). Their specificity is determined via the amino acid sequence. Previous studies provided evidence, that the most influencing factor of IR-target interaction the CDR3 sequence of the beta-chain and to lesser degree of the CDR3-alpha chain.\n",
    "\n",
    "In many studies, determining the individual cell's specificity is of key interest: researcher's can then select the cells relevant to their study and observe their behaviour. Binding screening of T cells can be performed via ??? (Check whether similar for BCRs) (see ...). However, this adds another level of complexity onto study design and further increases cost. \n",
    "Computational approaches for inferring specificity can provide this layer of information.\n",
    "\n",
    "Here, we will introduce the following approaches:\n",
    "- Database Query: IR sequences and their targets from various studies were collected in multiple databases. We can use these to find matches to our single-cell study.\n",
    "- Clustering and distances: [] showed, that IRs with similar receptors have common specificity. This property has been used in multiple approaches for comparing IRs with distance metrices and unsupervised clustering.\n",
    "- Epitope prediction: Recently, several machine-learning methods were developed that directly predict binding between IRs and a target. In theory, these methods could be used to directly assign specificity to the IRs involved in single-cell studies.\n",
    "\n",
    "However, all three approaches have major pitfalls. The amount of samples in the public databases is severly biased towards diseases and use cases that are commonly researched. Examplatory, this leads to known bindings for only several 100 epitopes sequences for TCRs in the major public databases. Further, the a majority amount of samples in these databases does not provide the full IR sequence (VDJ-genes and CDRs for alpha and beta chains), but rather focuses on the CDR3, while often only reporting only alpha or beta sequence. "
   ]
  },
  {
   "cell_type": "markdown",
   "id": "5f751411",
   "metadata": {},
   "source": [
    "2. TCR\n",
    "usage of tools depends on availability of underlying data, there not only the current study, but also the databases to use e.g. IEDB example. => ERGO-II reported for prediction: cdr3b > ...\n",
    "It is to be assumed that this or similar order also hold not only for prediction but also for clustering, querying, and distance metrics."
   ]
  },
  {
   "cell_type": "markdown",
   "id": "0210128d",
   "metadata": {},
   "source": [
    "2.1. Unsupervised Clustering\n",
    "While not directly infering specificity => clusters of similar TCR sequences, likely to have similar specificities => few known TCR-epitope paires in data => assign specificity to rest of cluster\n"
   ]
  },
  {
   "cell_type": "code",
   "execution_count": null,
   "id": "129c7ab4",
   "metadata": {},
   "outputs": [],
   "source": []
  },
  {
   "cell_type": "markdown",
   "id": "3ebc1743",
   "metadata": {},
   "source": [
    "2.2. Database Queries\n",
    "Idea => query databases for already reported TCR sequences:\n",
    "common databases:\n",
    "iedb\n",
    "vdjdb\n",
    "macpas\n",
    "immuneaccess (covid)\n",
    "=> other databases and studies with public data also possible\n",
    "\n",
    "Tradeof between precision and recall as in clonotype definition: \n",
    "Query databases with various degress of overlap:\n",
    "identical cdr3 beta, vdj genes, alpha chain\n",
    "=> No rulebook yet to performance also highly case dependent (rare epitopes will require less strigent query for hits)"
   ]
  },
  {
   "cell_type": "code",
   "execution_count": null,
   "id": "e2bd683d",
   "metadata": {},
   "outputs": [],
   "source": []
  },
  {
   "cell_type": "markdown",
   "id": "c0edbf40",
   "metadata": {},
   "source": [
    "2.3. Distance metrics\n",
    "\n",
    "If no direct hits, we can infer specificity by searching for similar TCRs within the databases.\n",
    "Several distance metrics exist. \n",
    "In general three directions: \n",
    "sequence alignments => convert sequence between each other => most direct way to measure sequence similarity, gaps might interupt sequence motifs needed for TCR-Epitope interactions =>  very local search, \n",
    "kmer => similarity based on small motif segments of length k => capture preserved motifs within TCR sequences, Overall less similar sequences due to random reordering, maybe more global metric \n",
    "numeric embeddings => project TCR sequence into embedding space where nummeric distances can be calculated. => algorithm dependend, deep learning => infer this from data, however more black-box, less interpretable\n",
    "\n",
    "Since no large benchmark between theese metrics exist, on tests showed generally similar performace, we will focus on one aligment based + 1 kmer based with two different requirements of used input data:\n",
    "TCRdist for paired data => one of commenly used, requires alpha, beta + v genes \n",
    "TCRmatch for beta data alone => more recent method,  integrated into iedb"
   ]
  },
  {
   "cell_type": "code",
   "execution_count": null,
   "id": "92467317",
   "metadata": {},
   "outputs": [],
   "source": []
  },
  {
   "cell_type": "markdown",
   "id": "2e48ec8e",
   "metadata": {},
   "source": [
    "2.4. Prediction\n",
    "This alternative approach not directly relying on databases. Prediction of binding between TCR sequence and epitope directly with measuring similarity to TCRs of databases. If in study there is guess of epitope (eg. due to prior vaccination) we can try to predict binding.\n",
    "Latetly many machine learning models for predicting binding between TCR and epitope. Generally these methods perform well for epitopes with training data, but often fail to generalize for unseen epitopes.\n",
    "Therefore recommend, to investigate training data of tool in question for the epitope in question, to see whether it was contained in training data to large extend. If not these tools can provide hint, but should still be taken with caution until they are further evaluated in a standarized benchmark for their individual strengths and weaknesses."
   ]
  },
  {
   "cell_type": "code",
   "execution_count": null,
   "id": "79b6c902",
   "metadata": {},
   "outputs": [],
   "source": []
  },
  {
   "cell_type": "markdown",
   "id": "3f1cb64a",
   "metadata": {},
   "source": [
    "3. BCR\n",
    "Similiar for TCR also on BCR"
   ]
  },
  {
   "cell_type": "code",
   "execution_count": null,
   "id": "a93d3969",
   "metadata": {},
   "outputs": [],
   "source": []
  },
  {
   "cell_type": "markdown",
   "id": "7674a0da",
   "metadata": {},
   "source": [
    "3.1. Clustering"
   ]
  },
  {
   "cell_type": "code",
   "execution_count": null,
   "id": "a1a30d0f",
   "metadata": {},
   "outputs": [],
   "source": []
  },
  {
   "cell_type": "markdown",
   "id": "4e239ba1",
   "metadata": {},
   "source": [
    "3.2. Databases"
   ]
  },
  {
   "cell_type": "code",
   "execution_count": null,
   "id": "4e1789f4",
   "metadata": {},
   "outputs": [],
   "source": [
    "http://opig.stats.ox.ac.uk/webapps/covabdab/\n",
    "https://www.iedb.org/"
   ]
  },
  {
   "cell_type": "markdown",
   "id": "c979be9e",
   "metadata": {},
   "source": [
    "3.3. Distance Measurements"
   ]
  },
  {
   "cell_type": "code",
   "execution_count": null,
   "id": "96e6eb8c",
   "metadata": {},
   "outputs": [],
   "source": []
  },
  {
   "cell_type": "markdown",
   "id": "ff2879f8",
   "metadata": {},
   "source": [
    "3.4. Prediction "
   ]
  },
  {
   "cell_type": "code",
   "execution_count": null,
   "id": "d0a4f5b1",
   "metadata": {},
   "outputs": [],
   "source": []
  },
  {
   "cell_type": "markdown",
   "id": "8eab7227",
   "metadata": {},
   "source": [
    "4. Takeaways"
   ]
  }
 ],
 "metadata": {
  "kernelspec": {
   "display_name": "Python [conda env:covidVac]",
   "language": "python",
   "name": "conda-env-covidVac-py"
  },
  "language_info": {
   "codemirror_mode": {
    "name": "ipython",
    "version": 3
   },
   "file_extension": ".py",
   "mimetype": "text/x-python",
   "name": "python",
   "nbconvert_exporter": "python",
   "pygments_lexer": "ipython3",
   "version": "3.7.1"
  }
 },
 "nbformat": 4,
 "nbformat_minor": 5
}
