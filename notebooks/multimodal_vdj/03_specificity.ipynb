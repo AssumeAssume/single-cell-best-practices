{
 "cells": [
  {
   "cell_type": "markdown",
   "id": "4813956c",
   "metadata": {},
   "source": [
    "# Content\n",
    "\n",
    "1. Introduction\n",
    "2. TCR\n",
    "    2.1. Database Queries\n",
    "    2.2. Clustering and Distance\n",
    "    2.3. Epitope Prediction\n",
    "3. BCR\n",
    "    3.1. Database Queries "
   ]
  },
  {
   "cell_type": "markdown",
   "id": "7a33cf3d",
   "metadata": {},
   "source": [
    "# 1. Introduction\n",
    "\n",
    "B- and T-cells recognize their targets via their immune receptors (IRs) - B cell receptor (BCR), and T cell receptor (TCR). Their specificity is determined via the amino acid sequence. Previous studies provided evidence, that the most influencing factor of IR-target interaction the CDR3 sequence of the beta-chain and to lesser degree of the CDR3-alpha chain.\n",
    "\n",
    "In many studies, determining the individual cell's specificity is of key interest: researcher's can then select the cells relevant to their study and observe their behaviour. Binding screening of T cells can be performed via ??? (Check whether similar for BCRs) (see ...). However, this adds another level of complexity onto study design and further increases cost. \n",
    "Computational approaches for inferring specificity can provide this layer of information.\n",
    "\n",
    "Here, we will introduce the following approaches:\n",
    "- Database Query: IR sequences and their targets from various studies were collected in multiple databases. We can use these to find matches to our single-cell study.\n",
    "- Clustering and distances: [] showed, that IRs with similar receptors have common specificity. This property has been used in multiple approaches for comparing IRs with distance metrices and unsupervised clustering.\n",
    "- Epitope prediction: Recently, several machine-learning methods were developed that directly predict binding between IRs and a target. In theory, these methods could be used to directly assign specificity to the IRs involved in single-cell studies.\n",
    "\n",
    "However, all three approaches have major pitfalls. The amount of samples in the public databases is severly biased towards diseases and use cases that are commonly researched. Examplatory, this leads to known bindings for only several 100 epitopes sequences for TCRs in the major public databases. Further, the a majority amount of samples in these databases does not provide the full IR sequence (VDJ-genes and CDRs for alpha and beta chains), but rather focuses on the CDR3, while often only reporting only alpha or beta sequence. "
   ]
  },
  {
   "cell_type": "markdown",
   "id": "5f751411",
   "metadata": {},
   "source": [
    "# 2. TCR\n",
    "\n",
    "In the following, we will showcase these approaches for TCRs. In [ERGO2], ... et all reported the importance of different information (elements of the TCR and MHC type) for training a sequence based classifier:\n",
    "\n",
    "...\n",
    "\n",
    "We can assume that this importance is similiar not only for prediction, but also for querying, clustering, and distance calculation and thereby use the ordering here as a guideline for which information to use, when comparing TCRs. "
   ]
  },
  {
   "cell_type": "code",
   "execution_count": 1,
   "id": "57137195",
   "metadata": {},
   "outputs": [
    {
     "name": "stderr",
     "output_type": "stream",
     "text": [
      "C:\\Users\\felix.drost\\AppData\\Roaming\\Python\\Python37\\site-packages\\statsmodels\\tools\\_testing.py:19: FutureWarning: pandas.util.testing is deprecated. Use the functions in the public API at pandas.testing instead.\n",
      "  import pandas.util.testing as tm\n"
     ]
    }
   ],
   "source": [
    "import scanpy as sc\n",
    "import scirpy as ir"
   ]
  },
  {
   "cell_type": "markdown",
   "id": "8b8536e5",
   "metadata": {},
   "source": [
    "Let's load the data from our previous notebooks."
   ]
  },
  {
   "cell_type": "code",
   "execution_count": 2,
   "id": "d7456651",
   "metadata": {},
   "outputs": [],
   "source": [
    "path_data = 'data'\n",
    "path_tcr = f'{path_data}/TCR_01_preprocessed_tcr.h5ad'\n",
    "adata_tcr = sc.read(path_tcr)"
   ]
  },
  {
   "cell_type": "code",
   "execution_count": 3,
   "id": "915ada97",
   "metadata": {},
   "outputs": [
    {
     "data": {
      "text/plain": [
       "CV0902         6835\n",
       "AP6            5980\n",
       "CV0904         5904\n",
       "CV0137         4837\n",
       "CV0074         4723\n",
       "               ... \n",
       "IVLPS-2-10h     355\n",
       "IVLPS-2-90m     344\n",
       "IVLPS-6-90m     182\n",
       "CV0198           44\n",
       "IVLPS-6-10h      31\n",
       "Name: patient_id, Length: 118, dtype: int64"
      ]
     },
     "execution_count": 3,
     "metadata": {},
     "output_type": "execute_result"
    }
   ],
   "source": [
    "adata_tcr.obs['patient_id'].value_counts()"
   ]
  },
  {
   "cell_type": "code",
   "execution_count": 4,
   "id": "0e95852e",
   "metadata": {},
   "outputs": [],
   "source": [
    "adata_tcr = adata_tcr[adata_tcr.obs['patient_id'].isin(['CV0902', 'AP6'])]"
   ]
  },
  {
   "cell_type": "markdown",
   "id": "3ebc1743",
   "metadata": {},
   "source": [
    "## 2.1. Database Queries\n",
    "Here, we will search for TCRs with specificity annotatation from previous studies. Common large-scale databases with TCR-epitope pairs are:\n",
    "- iedb\n",
    "- vdjdb\n",
    "- macpas\n",
    "- PIRD\n",
    "- immuneaccess (covid)\n",
    "\n",
    "These databases underlie sever bias toward which epitopes are represented. Depending on your use-case, databases or study data with a specific content might be better suited.\n",
    "\n",
    "Overall, there is a trade-off between precision and recall depending on the strictness of our query depending on which information we use for defining our clonotypes (see clonotype definition). Unfortunately, there are no general guidelines regarding what information should be taken into account. We will demonstrate various degrees of strictness when querying our data against the VDJdb.\n",
    "\n",
    "This database can be convienently accessed via Scirpy. Information on TCR, epitope, and experimental setup is stored in vdjdb.obs following common scanpy/scirpy format."
   ]
  },
  {
   "cell_type": "code",
   "execution_count": 5,
   "id": "129c7ab4",
   "metadata": {},
   "outputs": [
    {
     "data": {
      "text/html": [
       "<div>\n",
       "<style scoped>\n",
       "    .dataframe tbody tr th:only-of-type {\n",
       "        vertical-align: middle;\n",
       "    }\n",
       "\n",
       "    .dataframe tbody tr th {\n",
       "        vertical-align: top;\n",
       "    }\n",
       "\n",
       "    .dataframe thead th {\n",
       "        text-align: right;\n",
       "    }\n",
       "</style>\n",
       "<table border=\"1\" class=\"dataframe\">\n",
       "  <thead>\n",
       "    <tr style=\"text-align: right;\">\n",
       "      <th></th>\n",
       "      <th>multi_chain</th>\n",
       "      <th>species</th>\n",
       "      <th>mhc.a</th>\n",
       "      <th>mhc.b</th>\n",
       "      <th>mhc.class</th>\n",
       "      <th>antigen.epitope</th>\n",
       "      <th>antigen.gene</th>\n",
       "      <th>antigen.species</th>\n",
       "      <th>reference.id</th>\n",
       "      <th>method.identification</th>\n",
       "      <th>...</th>\n",
       "      <th>IR_VDJ_2_sequence_id</th>\n",
       "      <th>IR_VJ_1_v_call</th>\n",
       "      <th>IR_VJ_2_v_call</th>\n",
       "      <th>IR_VDJ_1_v_call</th>\n",
       "      <th>IR_VDJ_2_v_call</th>\n",
       "      <th>IR_VJ_1_v_cigar</th>\n",
       "      <th>IR_VJ_2_v_cigar</th>\n",
       "      <th>IR_VDJ_1_v_cigar</th>\n",
       "      <th>IR_VDJ_2_v_cigar</th>\n",
       "      <th>has_ir</th>\n",
       "    </tr>\n",
       "    <tr>\n",
       "      <th>cell_id</th>\n",
       "      <th></th>\n",
       "      <th></th>\n",
       "      <th></th>\n",
       "      <th></th>\n",
       "      <th></th>\n",
       "      <th></th>\n",
       "      <th></th>\n",
       "      <th></th>\n",
       "      <th></th>\n",
       "      <th></th>\n",
       "      <th></th>\n",
       "      <th></th>\n",
       "      <th></th>\n",
       "      <th></th>\n",
       "      <th></th>\n",
       "      <th></th>\n",
       "      <th></th>\n",
       "      <th></th>\n",
       "      <th></th>\n",
       "      <th></th>\n",
       "      <th></th>\n",
       "    </tr>\n",
       "  </thead>\n",
       "  <tbody>\n",
       "    <tr>\n",
       "      <th>0</th>\n",
       "      <td>False</td>\n",
       "      <td>HomoSapiens</td>\n",
       "      <td>HLA-B*08</td>\n",
       "      <td>B2M</td>\n",
       "      <td>MHCI</td>\n",
       "      <td>FLKEKGGL</td>\n",
       "      <td>Nef</td>\n",
       "      <td>HIV-1</td>\n",
       "      <td>PMID:15596521</td>\n",
       "      <td>tetramer-sort</td>\n",
       "      <td>...</td>\n",
       "      <td>NaN</td>\n",
       "      <td>TRAV26-1*01</td>\n",
       "      <td>NaN</td>\n",
       "      <td>TRBV13*01</td>\n",
       "      <td>NaN</td>\n",
       "      <td>NaN</td>\n",
       "      <td>NaN</td>\n",
       "      <td>NaN</td>\n",
       "      <td>NaN</td>\n",
       "      <td>True</td>\n",
       "    </tr>\n",
       "    <tr>\n",
       "      <th>1</th>\n",
       "      <td>False</td>\n",
       "      <td>HomoSapiens</td>\n",
       "      <td>HLA-B*08</td>\n",
       "      <td>B2M</td>\n",
       "      <td>MHCI</td>\n",
       "      <td>FLKEKGGL</td>\n",
       "      <td>Nef</td>\n",
       "      <td>HIV-1</td>\n",
       "      <td>PMID:15596521</td>\n",
       "      <td>tetramer-sort</td>\n",
       "      <td>...</td>\n",
       "      <td>NaN</td>\n",
       "      <td>NaN</td>\n",
       "      <td>NaN</td>\n",
       "      <td>TRBV13*01</td>\n",
       "      <td>NaN</td>\n",
       "      <td>NaN</td>\n",
       "      <td>NaN</td>\n",
       "      <td>NaN</td>\n",
       "      <td>NaN</td>\n",
       "      <td>True</td>\n",
       "    </tr>\n",
       "    <tr>\n",
       "      <th>2</th>\n",
       "      <td>False</td>\n",
       "      <td>HomoSapiens</td>\n",
       "      <td>HLA-B*08</td>\n",
       "      <td>B2M</td>\n",
       "      <td>MHCI</td>\n",
       "      <td>FLKEKGGL</td>\n",
       "      <td>Nef</td>\n",
       "      <td>HIV-1</td>\n",
       "      <td>PMID:15596521</td>\n",
       "      <td>tetramer-sort</td>\n",
       "      <td>...</td>\n",
       "      <td>NaN</td>\n",
       "      <td>TRAV20*01</td>\n",
       "      <td>NaN</td>\n",
       "      <td>TRBV13*01</td>\n",
       "      <td>NaN</td>\n",
       "      <td>NaN</td>\n",
       "      <td>NaN</td>\n",
       "      <td>NaN</td>\n",
       "      <td>NaN</td>\n",
       "      <td>True</td>\n",
       "    </tr>\n",
       "    <tr>\n",
       "      <th>3</th>\n",
       "      <td>False</td>\n",
       "      <td>HomoSapiens</td>\n",
       "      <td>HLA-B*08</td>\n",
       "      <td>B2M</td>\n",
       "      <td>MHCI</td>\n",
       "      <td>FLKEKGGL</td>\n",
       "      <td>Nef</td>\n",
       "      <td>HIV-1</td>\n",
       "      <td>PMID:15596521</td>\n",
       "      <td>tetramer-sort</td>\n",
       "      <td>...</td>\n",
       "      <td>NaN</td>\n",
       "      <td>TRAV2*01</td>\n",
       "      <td>NaN</td>\n",
       "      <td>TRBV13*01</td>\n",
       "      <td>NaN</td>\n",
       "      <td>NaN</td>\n",
       "      <td>NaN</td>\n",
       "      <td>NaN</td>\n",
       "      <td>NaN</td>\n",
       "      <td>True</td>\n",
       "    </tr>\n",
       "    <tr>\n",
       "      <th>4</th>\n",
       "      <td>False</td>\n",
       "      <td>HomoSapiens</td>\n",
       "      <td>HLA-B*08</td>\n",
       "      <td>B2M</td>\n",
       "      <td>MHCI</td>\n",
       "      <td>FLKEKGGL</td>\n",
       "      <td>Nef</td>\n",
       "      <td>HIV-1</td>\n",
       "      <td>PMID:15596521</td>\n",
       "      <td>tetramer-sort</td>\n",
       "      <td>...</td>\n",
       "      <td>NaN</td>\n",
       "      <td>TRAV38-2/DV8*01</td>\n",
       "      <td>NaN</td>\n",
       "      <td>TRBV14*01</td>\n",
       "      <td>NaN</td>\n",
       "      <td>NaN</td>\n",
       "      <td>NaN</td>\n",
       "      <td>NaN</td>\n",
       "      <td>NaN</td>\n",
       "      <td>True</td>\n",
       "    </tr>\n",
       "  </tbody>\n",
       "</table>\n",
       "<p>5 rows × 92 columns</p>\n",
       "</div>"
      ],
      "text/plain": [
       "        multi_chain      species     mhc.a mhc.b mhc.class antigen.epitope  \\\n",
       "cell_id                                                                      \n",
       "0             False  HomoSapiens  HLA-B*08   B2M      MHCI        FLKEKGGL   \n",
       "1             False  HomoSapiens  HLA-B*08   B2M      MHCI        FLKEKGGL   \n",
       "2             False  HomoSapiens  HLA-B*08   B2M      MHCI        FLKEKGGL   \n",
       "3             False  HomoSapiens  HLA-B*08   B2M      MHCI        FLKEKGGL   \n",
       "4             False  HomoSapiens  HLA-B*08   B2M      MHCI        FLKEKGGL   \n",
       "\n",
       "        antigen.gene antigen.species   reference.id method.identification  \\\n",
       "cell_id                                                                     \n",
       "0                Nef           HIV-1  PMID:15596521         tetramer-sort   \n",
       "1                Nef           HIV-1  PMID:15596521         tetramer-sort   \n",
       "2                Nef           HIV-1  PMID:15596521         tetramer-sort   \n",
       "3                Nef           HIV-1  PMID:15596521         tetramer-sort   \n",
       "4                Nef           HIV-1  PMID:15596521         tetramer-sort   \n",
       "\n",
       "         ... IR_VDJ_2_sequence_id   IR_VJ_1_v_call IR_VJ_2_v_call  \\\n",
       "cell_id  ...                                                        \n",
       "0        ...                  NaN      TRAV26-1*01            NaN   \n",
       "1        ...                  NaN              NaN            NaN   \n",
       "2        ...                  NaN        TRAV20*01            NaN   \n",
       "3        ...                  NaN         TRAV2*01            NaN   \n",
       "4        ...                  NaN  TRAV38-2/DV8*01            NaN   \n",
       "\n",
       "        IR_VDJ_1_v_call IR_VDJ_2_v_call IR_VJ_1_v_cigar IR_VJ_2_v_cigar  \\\n",
       "cell_id                                                                   \n",
       "0             TRBV13*01             NaN             NaN             NaN   \n",
       "1             TRBV13*01             NaN             NaN             NaN   \n",
       "2             TRBV13*01             NaN             NaN             NaN   \n",
       "3             TRBV13*01             NaN             NaN             NaN   \n",
       "4             TRBV14*01             NaN             NaN             NaN   \n",
       "\n",
       "        IR_VDJ_1_v_cigar IR_VDJ_2_v_cigar has_ir  \n",
       "cell_id                                           \n",
       "0                    NaN              NaN   True  \n",
       "1                    NaN              NaN   True  \n",
       "2                    NaN              NaN   True  \n",
       "3                    NaN              NaN   True  \n",
       "4                    NaN              NaN   True  \n",
       "\n",
       "[5 rows x 92 columns]"
      ]
     },
     "execution_count": 5,
     "metadata": {},
     "output_type": "execute_result"
    }
   ],
   "source": [
    "vdjdb = ir.datasets.vdjdb() \n",
    "vdjdb.obs.head(5)"
   ]
  },
  {
   "cell_type": "markdown",
   "id": "5af56ea4",
   "metadata": {},
   "source": [
    "Queries between two datasets are already integrated in Scirpy. Since they are not available in every toolkit, we will show an example how to manually perform such a query. However, it is gernally more convienent to convert the database into a toolkits format and with the toolkits native functions."
   ]
  },
  {
   "cell_type": "code",
   "execution_count": 6,
   "id": "d44fd252",
   "metadata": {},
   "outputs": [],
   "source": [
    "# TODO"
   ]
  },
  {
   "cell_type": "markdown",
   "id": "feea9ec1",
   "metadata": {},
   "source": [
    "The same query can be performed via toolkits such as Scirpy. First, we calculate the overlap between the TCRs of Query (our single-cell data) and Atlas dataset (here: vdjDB). The resulting matrices for VJ and VDJ receptor (n_ours x n_vdjdb) will contain a 1 where the TCRs match between both datasets and a 0 otherwise. \n",
    "\n",
    "We provide the following additional information to the function call:\n",
    "- metric='identity': only exact sequence matches are considered. For other metrices see (XXX).\n",
    "- sequence='aa': TCR sequences are compared on an amino-acid level instead of nucleobases, since specificity depends on the protein structure."
   ]
  },
  {
   "cell_type": "code",
   "execution_count": 7,
   "id": "e2bd683d",
   "metadata": {},
   "outputs": [
    {
     "name": "stderr",
     "output_type": "stream",
     "text": [
      "Trying to set attribute `._uns` of view, copying.\n"
     ]
    }
   ],
   "source": [
    "ir.pp.ir_dist(adata_tcr, vdjdb, metric='identity', sequence='aa') "
   ]
  },
  {
   "cell_type": "markdown",
   "id": "96809554",
   "metadata": {},
   "source": [
    "Next, we will match all cells between Query and Atlas dataset based on the condition we provide:\n",
    "- metric='identity', sequence='aa': we need to provide the same values as used during distance calculation\n",
    "- receptor_arms='VDJ': Compare TCRs based on CDR3-beta. Other options are 'VJ' (alpha chain), 'all' (alpha and beta chain), and 'any' (either alpha or beta chain).\n",
    "- dual_ir='primary_only': as discussed in XXX, T cells can cary a secondary TCR. This parameter determines on which receptor the query is conducted. Other options are 'any' (primary or secondary receptor), and 'all' (primary and secondary receptor)."
   ]
  },
  {
   "cell_type": "code",
   "execution_count": 8,
   "id": "c5e9e1ff",
   "metadata": {},
   "outputs": [
    {
     "name": "stderr",
     "output_type": "stream",
     "text": [
      "100%|█████████████████████████████████████████████████████████████████████████████| 6191/6191 [00:12<00:00, 503.06it/s]\n"
     ]
    }
   ],
   "source": [
    "ir.tl.ir_query(adata_tcr, vdjdb, metric='identity', sequence='aa', receptor_arms='VDJ', dual_ir='primary_only') "
   ]
  },
  {
   "cell_type": "markdown",
   "id": "2342a6e7",
   "metadata": {},
   "source": [
    "Finally, we can annotate the TCRs in the single-cell data with the annotation of matching entries of a the database.\n",
    "- metric='identity', sequence='aa': Use the same values as provided earlier\n",
    "- include_ref_cols: list of columns from the reference database, that will be added to the query database. Here, we will add the species of the antigen and the epitope sequence.\n",
    "- suffix: Here, we mark the different queries we will conduct with a suffix. "
   ]
  },
  {
   "cell_type": "code",
   "execution_count": 11,
   "id": "c3ffab8f",
   "metadata": {},
   "outputs": [
    {
     "name": "stderr",
     "output_type": "stream",
     "text": [
      "100%|████████████████████████████████████████████████████████████████████████████| 1690/1690 [00:00<00:00, 3236.13it/s]\n"
     ]
    },
    {
     "data": {
      "text/plain": [
       "CMV                 601\n",
       "EBV                  83\n",
       "HIV-1                70\n",
       "ambiguous            55\n",
       "SARS-CoV-2           12\n",
       "HomoSapiens           8\n",
       "InfluenzaA            7\n",
       "HCV                   4\n",
       "SIV                   1\n",
       "YFV                   1\n",
       "DENV2                 1\n",
       "TriticumAestivum      1\n",
       "MCMV                  1\n",
       "Name: antigen.species_VDJ, dtype: int64"
      ]
     },
     "execution_count": 11,
     "metadata": {},
     "output_type": "execute_result"
    }
   ],
   "source": [
    "ir.tl.ir_query_annotate(adata_tcr, vdjdb, metric='identity', sequence='aa', \n",
    "                        include_ref_cols=['antigen.species', 'antigen.epitope'])\n",
    "adata_tcr.obs['antigen.species'].value_counts()"
   ]
  },
  {
   "cell_type": "markdown",
   "id": "0558b418",
   "metadata": {},
   "source": [
    "We observe several matches towards different dieseases. These annotation must be viewed carefully, since they depend on the aboundance of the disease in the databases, wrong annotation in the databases, false matches due to using incomplete information, and possible MHC restrictions of epitopes. However, from the great aboundance of disease-specific TCRs, we could deduct, that one patient has a latent infection towards the Cytomegalovirus (CMV) and Epstein–Barr virus (EBV), which are common [cite] in population. However, the third most common disease association is toward the less frequent HIV-1."
   ]
  },
  {
   "cell_type": "markdown",
   "id": "e0bdc043",
   "metadata": {},
   "source": [
    "Next we perfrom a similar query, but regarding only the alpha chain. We will indicate this assignment by using the suffix '_VJ'."
   ]
  },
  {
   "cell_type": "code",
   "execution_count": 12,
   "id": "5268f3f5",
   "metadata": {},
   "outputs": [
    {
     "name": "stderr",
     "output_type": "stream",
     "text": [
      "100%|█████████████████████████████████████████████████████████████████████████████| 5209/5209 [00:10<00:00, 519.55it/s]\n",
      "100%|████████████████████████████████████████████████████████████████████████████| 4064/4064 [00:01<00:00, 3250.00it/s]\n"
     ]
    },
    {
     "data": {
      "text/plain": [
       "ambiguous       927\n",
       "CMV             466\n",
       "InfluenzaA      349\n",
       "MCMV            143\n",
       "SARS-CoV-2       55\n",
       "EBV              43\n",
       "HomoSapiens      27\n",
       "HCV              11\n",
       "HIV-1             6\n",
       "YFV               3\n",
       "HSV-2             1\n",
       "Homo sapiens      1\n",
       "Name: antigen.species_VJ, dtype: int64"
      ]
     },
     "execution_count": 12,
     "metadata": {},
     "output_type": "execute_result"
    }
   ],
   "source": [
    "ir.tl.ir_query(adata_tcr, vdjdb, metric='identity', sequence='aa', receptor_arms='VJ', dual_ir='primary_only') \n",
    "ir.tl.ir_query_annotate(adata_tcr, vdjdb, metric='identity', sequence='aa', \n",
    "                        include_ref_cols=['antigen.species', 'antigen.epitope'], suffix='_VJ')\n",
    "adata_tcr.obs['antigen.species_VJ'].value_counts()"
   ]
  },
  {
   "cell_type": "markdown",
   "id": "5b8c6ccb",
   "metadata": {},
   "source": [
    "Note, that we recieve more matches of the alpha chain, since it is less variable than the beta chain. This results in many TCRs that cannot be uniquely assigned to a specific disease and are therefore 'ambiguous'. As expected, we can still observe a many matches towards CMV, reinforcing the probability of an infection. However, there is only limited indication for HIV-specific TCRs."
   ]
  },
  {
   "cell_type": "markdown",
   "id": "9a9cb765",
   "metadata": {},
   "source": [
    "Finally, we query identical sequences on both receptors:"
   ]
  },
  {
   "cell_type": "code",
   "execution_count": 13,
   "id": "22ea3021",
   "metadata": {},
   "outputs": [
    {
     "name": "stderr",
     "output_type": "stream",
     "text": [
      "100%|█████████████████████████████████████████████████████████████████████████████| 6722/6722 [00:14<00:00, 451.45it/s]\n",
      "100%|██████████████████████████████████████████████████████████████████████████████| 328/328 [00:00<00:00, 3011.47it/s]\n"
     ]
    },
    {
     "data": {
      "text/plain": [
       "CMV            87\n",
       "InfluenzaA     26\n",
       "EBV            21\n",
       "ambiguous      16\n",
       "HomoSapiens     5\n",
       "HIV-1           4\n",
       "YFV             3\n",
       "SARS-CoV-2      1\n",
       "SIV             1\n",
       "Name: antigen.species_fullIR, dtype: int64"
      ]
     },
     "execution_count": 13,
     "metadata": {},
     "output_type": "execute_result"
    }
   ],
   "source": [
    "ir.tl.ir_query(adata_tcr, vdjdb, metric='identity', sequence='aa', receptor_arms='all', dual_ir='primary_only') \n",
    "ir.tl.ir_query_annotate(adata_tcr, vdjdb, metric='identity', sequence='aa', \n",
    "                        include_ref_cols=['antigen.species', 'antigen.epitope'], suffix='_fullIR')\n",
    "adata_tcr.obs['antigen.species_fullIR'].value_counts()"
   ]
  },
  {
   "cell_type": "markdown",
   "id": "a5a6eae0",
   "metadata": {},
   "source": [
    "Since this is far less descriptive, we recieve less matches. However, these matches are likely to be of higher quality. "
   ]
  },
  {
   "cell_type": "markdown",
   "id": "0210128d",
   "metadata": {},
   "source": [
    "## 2.2. Clustering and Distances\n",
    "While not directly infering specificity => clusters of similar TCR sequences, likely to have similar specificities => few known TCR-epitope paires in data => assign specificity to rest of cluster\n"
   ]
  },
  {
   "cell_type": "markdown",
   "id": "c0edbf40",
   "metadata": {},
   "source": [
    "2.3. Distance metrics\n",
    "\n",
    "If no direct hits, we can infer specificity by searching for similar TCRs within the databases.\n",
    "Several distance metrics exist. \n",
    "In general three directions: \n",
    "sequence alignments => convert sequence between each other => most direct way to measure sequence similarity, gaps might interupt sequence motifs needed for TCR-Epitope interactions =>  very local search, \n",
    "kmer => similarity based on small motif segments of length k => capture preserved motifs within TCR sequences, Overall less similar sequences due to random reordering, maybe more global metric \n",
    "numeric embeddings => project TCR sequence into embedding space where nummeric distances can be calculated. => algorithm dependend, deep learning => infer this from data, however more black-box, less interpretable\n",
    "\n",
    "Since no large benchmark between theese metrics exist, on tests showed generally similar performace, we will focus on one aligment based + 1 kmer based with two different requirements of used input data:\n",
    "TCRdist for paired data => one of commenly used, requires alpha, beta + v genes \n",
    "TCRmatch for beta data alone => more recent method,  integrated into iedb"
   ]
  },
  {
   "cell_type": "code",
   "execution_count": null,
   "id": "92467317",
   "metadata": {},
   "outputs": [],
   "source": []
  },
  {
   "cell_type": "markdown",
   "id": "2e48ec8e",
   "metadata": {},
   "source": [
    "# 2.3. Epitope Prediction\n",
    "\n",
    "\n",
    "This alternative approach not directly relying on comparing TCRs to databases. Prediction of binding between TCR sequence and epitope directly with measuring similarity to TCRs of databases. If in study there is guess of epitope (eg. due to prior vaccination) we can try to predict binding.\n",
    "Latetly many machine learning models for predicting binding between TCR and epitope. Generally these methods perform well for epitopes with training data, but often fail to generalize for unseen epitopes.\n",
    "Therefore recommend, to investigate training data of tool in question for the epitope in question, to see whether it was contained in training data to large extend. If not these tools can provide hint, but should still be taken with caution until they are further evaluated in a standarized benchmark for their individual strengths and weaknesses."
   ]
  },
  {
   "cell_type": "code",
   "execution_count": null,
   "id": "79b6c902",
   "metadata": {},
   "outputs": [],
   "source": []
  },
  {
   "cell_type": "markdown",
   "id": "3f1cb64a",
   "metadata": {},
   "source": [
    "3. BCR\n",
    "Similiar for TCR also on BCR"
   ]
  },
  {
   "cell_type": "code",
   "execution_count": null,
   "id": "a93d3969",
   "metadata": {},
   "outputs": [],
   "source": []
  },
  {
   "cell_type": "markdown",
   "id": "7674a0da",
   "metadata": {},
   "source": [
    "3.1. Clustering"
   ]
  },
  {
   "cell_type": "code",
   "execution_count": null,
   "id": "a1a30d0f",
   "metadata": {},
   "outputs": [],
   "source": []
  },
  {
   "cell_type": "markdown",
   "id": "4e239ba1",
   "metadata": {},
   "source": [
    "3.2. Databases"
   ]
  },
  {
   "cell_type": "code",
   "execution_count": null,
   "id": "4e1789f4",
   "metadata": {},
   "outputs": [],
   "source": [
    "http://opig.stats.ox.ac.uk/webapps/covabdab/\n",
    "https://www.iedb.org/"
   ]
  },
  {
   "cell_type": "markdown",
   "id": "c979be9e",
   "metadata": {},
   "source": [
    "3.3. Distance Measurements"
   ]
  },
  {
   "cell_type": "code",
   "execution_count": null,
   "id": "96e6eb8c",
   "metadata": {},
   "outputs": [],
   "source": []
  },
  {
   "cell_type": "markdown",
   "id": "ff2879f8",
   "metadata": {},
   "source": [
    "3.4. Prediction "
   ]
  },
  {
   "cell_type": "code",
   "execution_count": null,
   "id": "d0a4f5b1",
   "metadata": {},
   "outputs": [],
   "source": []
  },
  {
   "cell_type": "markdown",
   "id": "8eab7227",
   "metadata": {},
   "source": [
    "# 4. Takeaways"
   ]
  },
  {
   "cell_type": "markdown",
   "id": "4fff6442",
   "metadata": {},
   "source": []
  },
  {
   "cell_type": "markdown",
   "id": "3335ca9f",
   "metadata": {},
   "source": [
    "# 5. Quiz"
   ]
  }
 ],
 "metadata": {
  "kernelspec": {
   "display_name": "Python [conda env:covidVac]",
   "language": "python",
   "name": "conda-env-covidVac-py"
  },
  "language_info": {
   "codemirror_mode": {
    "name": "ipython",
    "version": 3
   },
   "file_extension": ".py",
   "mimetype": "text/x-python",
   "name": "python",
   "nbconvert_exporter": "python",
   "pygments_lexer": "ipython3",
   "version": "3.7.1"
  }
 },
 "nbformat": 4,
 "nbformat_minor": 5
}
