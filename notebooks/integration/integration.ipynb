{
 "cells": [
  {
   "cell_type": "markdown",
   "id": "4268c662-26d7-403e-8617-f1d69dfe3882",
   "metadata": {},
   "source": [
    "# Integrating datasets"
   ]
  },
  {
   "cell_type": "markdown",
   "id": "9dfc6722-6f75-438d-82ae-8627c758d4f3",
   "metadata": {},
   "source": [
    "## Introduction"
   ]
  },
  {
   "cell_type": "markdown",
   "id": "9571536d-3087-409c-b5e7-766dd46b70f3",
   "metadata": {},
   "source": [
    "* Why integrate?\n",
    "    * Batch correction vs data integration\n",
    "* What is integration?\n",
    "    * Principles and challenges paper\n",
    "    * Batch vs bio\n",
    "* Benchmarks\n",
    "    * scIB\n",
    "    * Ocular atlas\n",
    "    * Hemberg\n",
    "    * Tran\n",
    "    * Others\n",
    "* Different output types\n",
    "    * Features\n",
    "    * Embedding\n",
    "    * Graph\n",
    "* General pros/cons\n",
    "* With existing labels\n",
    "* Projecting onto a reference"
   ]
  },
  {
   "cell_type": "code",
   "execution_count": null,
   "id": "57ecf08d-08ee-4cf4-9dd3-75baa04a6b85",
   "metadata": {},
   "outputs": [],
   "source": [
    "import scanpy as sc\n",
    "import scvi\n",
    "import bbknn\n",
    "import scib\n",
    "import numpy as np\n",
    "import pandas as pd\n",
    "import matplotlib.pyplot as plt\n",
    "import matplotlib"
   ]
  },
  {
   "cell_type": "markdown",
   "id": "407aa45e-d853-438a-b85c-ab4f90c353f5",
   "metadata": {},
   "source": [
    "## Dataset"
   ]
  },
  {
   "cell_type": "markdown",
   "id": "8cac1286-ec6e-4d60-bebf-ba5822d0755e",
   "metadata": {},
   "source": [
    "The dataset we will use to demonstrate data integration contains several samples from the pancreas sequenced using different scRNA-seq technologies and protocols. First let's download the data from Figshare. This will create a file caled `scIB-pancreas.h5ad` in the `datasets/` directory. Please modify the command if you would prefer to download somewhere else. You can also download the file using your browser with this [link](https://figshare.com/ndownloader/files/24539828)."
   ]
  },
  {
   "cell_type": "code",
   "execution_count": null,
   "id": "fc555f66-059a-4f04-a91c-001691017e8f",
   "metadata": {},
   "outputs": [],
   "source": [
    "!wget -nc https://figshare.com/ndownloader/files/24539828 -O ../../datasets/scIB-pancreas.h5ad"
   ]
  },
  {
   "cell_type": "markdown",
   "id": "9043b621-4bbc-41fe-9817-da1a34ce87d5",
   "metadata": {},
   "source": [
    "Once we have downloaded the file we can read it using **scanpy** to get an `AnnData` object."
   ]
  },
  {
   "cell_type": "code",
   "execution_count": null,
   "id": "9fc18c7d-09dc-4ea6-9de7-e8b30849747d",
   "metadata": {},
   "outputs": [],
   "source": [
    "adata = sc.read_h5ad(\"../../datasets/scIB-pancreas.h5ad\")\n",
    "adata.layers[\"logcounts\"] = adata.X\n",
    "adata"
   ]
  },
  {
   "cell_type": "markdown",
   "id": "8224db04-1be2-4677-b096-08a7cfd00ede",
   "metadata": {},
   "source": [
    "The original dataset contains 16382 cells and measurements for 19093 cells. There are two versions of the expression matrix, `counts` which contains the raw count values and `logcounts` which contains **{scran}**-normalised log-counts (these values are also stored in `adata.X`).\n",
    "\n",
    "The `obs` slot contains three variables:\n",
    "\n",
    "* `tech` - The sequencing technology used for each cell. For some technologies there are more than one sample. We will use this as the batch variable for our integration.\n",
    "* `celltype` - The cell identity label for each cell\n",
    "* `size_factors` - The normalisation size factors calculated by **{scran}**\n",
    "\n",
    "Let's have a look at the different batches and how many cells we have for each."
   ]
  },
  {
   "cell_type": "code",
   "execution_count": null,
   "id": "d6c9e8a1-1aca-47fd-b773-52e59e5ae527",
   "metadata": {},
   "outputs": [],
   "source": [
    "adata.obs[\"tech\"].value_counts()"
   ]
  },
  {
   "cell_type": "markdown",
   "id": "b6031b82-12a4-42a5-a4ae-801df69632a4",
   "metadata": {},
   "source": [
    "There are nine different samples from five different technologies. For simplicity we will select four samples to use for this section, two collected using the inDrop platform and two from the celseq protocol."
   ]
  },
  {
   "cell_type": "code",
   "execution_count": null,
   "id": "1b00d15a-05a7-4db9-bac2-545bdb61ea3e",
   "metadata": {},
   "outputs": [],
   "source": [
    "keep_batches = [\"inDrop1\", \"inDrop2\", \"celseq\", \"celseq2\"]\n",
    "adata = adata[adata.obs[\"tech\"].isin(keep_batches)].copy()\n",
    "adata"
   ]
  },
  {
   "cell_type": "markdown",
   "id": "1ec20769-46f4-4b78-9118-5ee6af0ba766",
   "metadata": {},
   "source": [
    "Most integration methods require a single object containing all the samples and a batch variable (like we have here). If instead you have separate objects for each of your samples you can join them using the **anndata** `concat()` function. See the the [concatenation tutorial](https://anndata.readthedocs.io/en/stable/concatenation.html) for more details."
   ]
  },
  {
   "cell_type": "markdown",
   "id": "f1602ad9-4637-4807-a754-55eb1015266e",
   "metadata": {},
   "source": [
    "> **Integrating UMI and full-length data**\n",
    ">\n",
    "> Integrating samples from UMI and full-length protocols can present additional challenges. This is because full-length protocols are affected by gene-length bias (longer genes will be more highly expressed) while UMI data is not [10.12688/f1000research.11290.1].\n",
    "> Because of this it is generally recommended to transform counts for full-length samples into a unit which corrects for gene-length (such as transcripts per million (TPM)) before attempting integration.\n",
    ">\n",
    "> This case applies to the samples we use here.\n",
    "> The celseq protocol produces full-length data but the values we use here are inferred UMI counts calculated by the authors of the original study.\n",
    "> This conversion process produces floating point numbers rather than integers which results in warnings in some of the following sections."
   ]
  },
  {
   "cell_type": "markdown",
   "id": "8ee0a84f-eb5e-4e0e-b30d-799c0db6d809",
   "metadata": {},
   "source": [
    "## Unintegrated"
   ]
  },
  {
   "cell_type": "markdown",
   "id": "e0528714-7701-4548-b1a7-c5d27bdde00f",
   "metadata": {},
   "source": [
    "It is always recommended to look at the raw data before performing any integration. This can give some indication of how big any batch effects are and what might be causing them. For some experiments it might even suggest that integration is not required if samples already overlap. This is not uncommon for mouse or cell line studies from a single lab for example where most of the variables which contribute to batch effects can be controlled.\n",
    "\n",
    "We will perform variable gene selection, PCA and UMAP dimensionality reduction as we have seen previously in the pre-processing chapter."
   ]
  },
  {
   "cell_type": "code",
   "execution_count": null,
   "id": "207f28cf-4eb0-477b-9384-b2b507926045",
   "metadata": {},
   "outputs": [],
   "source": [
    "sc.pp.highly_variable_genes(adata)\n",
    "sc.tl.pca(adata)\n",
    "sc.pp.neighbors(adata)\n",
    "sc.tl.umap(adata)\n",
    "adata.obsm[\"X_raw_umap\"] = adata.obsm[\"X_umap\"]\n",
    "adata"
   ]
  },
  {
   "cell_type": "markdown",
   "id": "0b8e0ff0-1863-4007-b6f1-ca4c1d50ec7e",
   "metadata": {},
   "source": [
    "This adds several new items to our AnnData object. The `var` slot now includes means, dispersions and the selected variable genes. In the `obsp` slot we have distances and connectivities for our KNN graph and in `obsm` are the PCA and UMAP embeddings. We also store the UMAP as `X_raw_umap` as we want to compare it to the integrated embeddings later on.\n",
    "\n",
    "Let's plot the UMAP, colouring the points by cell identity and batch labels. If the dataset had not already been labelled (which is often the case) we would only be able to consider the batch labels."
   ]
  },
  {
   "cell_type": "code",
   "execution_count": null,
   "id": "4756f62f-9d4b-4ccd-9a06-6d883d56b486",
   "metadata": {},
   "outputs": [],
   "source": [
    "label_key = \"celltype\"\n",
    "batch_key = \"tech\"\n",
    "sc.pl.umap(adata, color=[label_key, batch_key])"
   ]
  },
  {
   "cell_type": "markdown",
   "id": "688c4f44-ce47-4fa5-ad64-3ba25964e325",
   "metadata": {},
   "source": [
    "These plots clearly show that there are batch effects in this dataset. The two different technologies (cellseq and inDrop) are clearly separated and even for one technology there are differences between samples. If we consider the cell identity labels we see that cells which have the same label are not always located near each other. If we were to perform a clustering analysis using this raw data we would probably end up with different clusters for each sample/identity combination which would be difficult to interpret at the annotation stage. We are also likely to overlook rare cell types which are not common enough in any single sample to produce their own cluster.\n",
    "\n",
    "Now that we have confirmed there are batch effects to correct we can move on to the different integration methods."
   ]
  },
  {
   "cell_type": "markdown",
   "id": "554c2cf2-e7ca-4eb2-b08f-4ebd0c7bd171",
   "metadata": {},
   "source": [
    "## Batch-aware feature selection"
   ]
  },
  {
   "cell_type": "markdown",
   "id": "6ea85702-3887-4e4c-96d7-187d05a9824d",
   "metadata": {},
   "source": [
    "For similar reasons to when only working with one sample we want to select a subset of genes to use for our analysis. However, when integrating multiple samples it is important that gene selection is performed in a batch-aware way. This is because there may be a small cell population which is only present in one batch. Important genes for this population might not be variable across the whole datasets but should be when only considering one batch.\n",
    "\n",
    "We can perform batch aware highly variable gene selection by setting the `batch_key` argument. **scanpy** will then calculate HVGs for each batch separately and combine the results."
   ]
  },
  {
   "cell_type": "code",
   "execution_count": null,
   "id": "a41cad69-ba9e-4738-8df8-dcc8ba2d76d8",
   "metadata": {},
   "outputs": [],
   "source": [
    "sc.pp.highly_variable_genes(adata, n_top_genes=2000, flavor=\"cell_ranger\", batch_key=batch_key)\n",
    "adata\n",
    "adata.var"
   ]
  },
  {
   "cell_type": "markdown",
   "id": "03618292-fd1c-447a-9731-387d4132459c",
   "metadata": {},
   "source": [
    "We can see there are now some addtional columns in `var`:\n",
    "\n",
    "* `highly_variable_nbatches` - The number of batches where each gene was found to be highly variable\n",
    "* `highly_variable_intersection` - Whether each genes was highly variable in every batch\n",
    "* `highly_variable` - Whether each genes was selected as highly variable after combining the results from each batch \n",
    "\n",
    "Let's check how many batches each gene was variable in."
   ]
  },
  {
   "cell_type": "code",
   "execution_count": null,
   "id": "f5a134b3-7051-4dda-85f8-eb19bada58e5",
   "metadata": {},
   "outputs": [],
   "source": [
    "ax = adata.var.hist(column=\"highly_variable_nbatches\")"
   ]
  },
  {
   "cell_type": "markdown",
   "id": "4ca1e24c-9c9e-4140-8892-2b561e4a1046",
   "metadata": {},
   "source": [
    "In this case most genes are variable in all batches but it is still good practice to perform batch-aware gene selection in case they aren't."
   ]
  },
  {
   "cell_type": "markdown",
   "id": "a4fde2d0-5b92-4119-bfd0-487e07aa2222",
   "metadata": {},
   "source": [
    "> **How many genes to use?**\n",
    ">\n",
    "> This is a question which doesn't have a clear answer. The authors of the **scvi-tools** package which we use below recommend between 1000 and 10000 genes but how many depends on the context including the complexity of the dataset and the number of batches.\n",
    "> In general it is better to select slightly too many genes than to select too few and risk removing genes which are important for a rare cell type.\n",
    "> However, more genes will also increase the time required to run the integration methods."
   ]
  },
  {
   "cell_type": "markdown",
   "id": "b240285e-4bf8-4cd3-973b-980c1d38286e",
   "metadata": {},
   "source": [
    "We will create an object with just the selected genes to use for integration."
   ]
  },
  {
   "cell_type": "code",
   "execution_count": null,
   "id": "55795a93-ee0b-41cb-ad12-8e4926b0321d",
   "metadata": {},
   "outputs": [],
   "source": [
    "adata_hvg = adata[:, adata.var[\"highly_variable\"]].copy()\n",
    "adata_hvg"
   ]
  },
  {
   "cell_type": "markdown",
   "id": "b0280220-db89-471e-aab2-6d21d7c605df",
   "metadata": {},
   "source": [
    "## Integrating with scVI"
   ]
  },
  {
   "cell_type": "markdown",
   "id": "3e83d4c6-526c-4356-bc89-9b1ed3b0ee74",
   "metadata": {},
   "source": [
    "The first integration method we will use is **scVI**. This method is based on a conditional variational autoencoder, a type of neural network which attempts to reconstruct the distribution of a dataset while considering differences between conditions (in this case batches). In benchmarking studies **scVI** has been shown to perform well across a range of datasets with a good balance of batch correction while conserving biological variability [REF]. **scVI** models raw counts directly so it is important that we provide it with a counts matrix rather than a normalised expression matrix.\n",
    "\n",
    "First let's make a copy of our dataset to use for this integration. It's not normally necessary to do this but as we will demonstrate multiple integration methods making a copy makes it easier to show what has been added by each method."
   ]
  },
  {
   "cell_type": "code",
   "execution_count": null,
   "id": "0e4fcc15",
   "metadata": {},
   "outputs": [],
   "source": [
    "adata_scvi = adata_hvg.copy()"
   ]
  },
  {
   "cell_type": "markdown",
   "id": "17eb1637-2e07-4a43-bd05-fd28a6b0a20c",
   "metadata": {},
   "source": [
    "### Data preparation"
   ]
  },
  {
   "cell_type": "markdown",
   "id": "911f2b6f-4158-4311-9aab-f86645fa96b4",
   "metadata": {},
   "source": [
    "The first step in using **scVI** is prepare our AnnData object. This step stores some information required by **scVI** such as which expression matrix to use and what the batch key is."
   ]
  },
  {
   "cell_type": "code",
   "execution_count": null,
   "id": "8f25a1e0-30e8-4454-aa5f-c8735466862d",
   "metadata": {},
   "outputs": [],
   "source": [
    "scvi.model.SCVI.setup_anndata(adata_scvi, layer=\"counts\", batch_key=batch_key)\n",
    "adata_scvi"
   ]
  },
  {
   "cell_type": "markdown",
   "id": "46c9c28f-03d9-4f36-80aa-1abe5c867360",
   "metadata": {},
   "source": [
    "The fields created byh **scVI** are prefixed with `_scvi`. These are designed for internal use and should not be manually modified. Also note the general advice from **scVI** not to make any changes to our object until after the model is trained.\n",
    "\n",
    "**scVI** also provides a handy function for viewing the current setup."
   ]
  },
  {
   "cell_type": "code",
   "execution_count": null,
   "id": "60f7ef94-e14a-4f7b-b038-e94a00cd8ecc",
   "metadata": {},
   "outputs": [],
   "source": [
    "scvi.data.view_anndata_setup(adata_scvi)"
   ]
  },
  {
   "cell_type": "markdown",
   "id": "e77bcd32-992a-4ca3-a0fd-31b80a7afad2",
   "metadata": {},
   "source": [
    "Here we can see the number of batches, the labels for those batches and how **scVI** has encoded them. It is important to check this information to double check everything is as intended."
   ]
  },
  {
   "cell_type": "markdown",
   "id": "6d596cd4-f1b8-4348-b374-10fc4ad41236",
   "metadata": {},
   "source": [
    "### Building the model"
   ]
  },
  {
   "cell_type": "markdown",
   "id": "0ac9fcb1-a974-4596-9ade-7e17f93dd8fc",
   "metadata": {},
   "source": [
    "We can now construct an **scVI** model object. As well as the **scVI** model we use here the **scvi-tools** package contains various other models (we will use the **scANVI** model below). Note the warning about making sure that the X field contains unnormalised count data. In our case this is expected as some of our samples contain inferred counts (as mentioned above) but usually when you see this you should check that the layer provided to the setup function does actually contain count values."
   ]
  },
  {
   "cell_type": "code",
   "execution_count": null,
   "id": "2951dc72-435d-45d0-a1f5-89df90d713f4",
   "metadata": {},
   "outputs": [],
   "source": [
    "model_scvi = scvi.model.SCVI(adata_scvi)\n",
    "model_scvi"
   ]
  },
  {
   "cell_type": "markdown",
   "id": "2abba8ef-aff1-4ab1-ad7d-ce57d188112c",
   "metadata": {},
   "source": [
    "The model object contains the provided AnnData object as well as the neural network for the model itself. If we wanted to modify the structure of the network we could provide additional arguments to the model construction function but here we just use the defaults."
   ]
  },
  {
   "cell_type": "markdown",
   "id": "1bf8df9c-27f3-47b0-864e-a2cfcf2481f1",
   "metadata": {},
   "source": [
    "### Training the model"
   ]
  },
  {
   "cell_type": "markdown",
   "id": "dccdfad4-aec4-469e-bcf7-a94f5ffed7f2",
   "metadata": {},
   "source": [
    "The model will be trained for a given number of _epochs_ (a training iteration where every cell is passed through the network). The following code is a suggested heuristic for reducing the number of epochs for larger datasets. Because this dataset has less than 20000 cells it returns the default value of 400."
   ]
  },
  {
   "cell_type": "code",
   "execution_count": null,
   "id": "a462f886-7172-4f1a-8af8-614ac2915049",
   "metadata": {},
   "outputs": [],
   "source": [
    "max_epochs_scvi = np.min([round((20000 / adata.n_obs) * 400), 400])\n",
    "max_epochs_scvi"
   ]
  },
  {
   "cell_type": "markdown",
   "id": "5d8e6c97-709a-4a3a-8c5d-2cf8a0d3538a",
   "metadata": {},
   "source": [
    "We now train the model for the selected number of epochs (this will take ~15-30 minutes depending on the computer you are using)."
   ]
  },
  {
   "cell_type": "code",
   "execution_count": null,
   "id": "441672ad-d277-4bef-8112-51d0bb22c226",
   "metadata": {},
   "outputs": [],
   "source": [
    "model_scvi.train(max_epochs=max_epochs_scvi)"
   ]
  },
  {
   "cell_type": "markdown",
   "id": "83b4d75f-8661-441f-b721-f7a7895a88fa",
   "metadata": {},
   "source": [
    "> **Early stopping**\n",
    ">\n",
    "> An alternative to manually setting the number of epochs is to set `early_stopping=True` in the training function. This will let **scVI** decide to stop training early depending on the convergence of the model.\n",
    "> The exact conditions for stopping can be controlled by other parameters."
   ]
  },
  {
   "cell_type": "markdown",
   "id": "d7623937-2b97-4a37-96cc-4bf390a57468",
   "metadata": {},
   "source": [
    "## Extracting the embedding "
   ]
  },
  {
   "cell_type": "markdown",
   "id": "ac668386-f7cf-4a61-a9ab-c675a9a25d0b",
   "metadata": {},
   "source": [
    "The main result we want to extract from the trained model is the latent representation for each cell. This is an embedding where the batch effects have been removed. We store this in `obsm` with the key `X_scvi`."
   ]
  },
  {
   "cell_type": "code",
   "execution_count": null,
   "id": "6a7f0055-44e6-45f4-b360-8cb6995594ef",
   "metadata": {},
   "outputs": [],
   "source": [
    "adata_scvi.obsm[\"X_scVI\"] = model_scvi.get_latent_representation()"
   ]
  },
  {
   "cell_type": "markdown",
   "id": "e80242f0-18b2-4d60-9082-ef6a24dea58e",
   "metadata": {},
   "source": [
    "### Calculate corrected UMAP"
   ]
  },
  {
   "cell_type": "markdown",
   "id": "218e9166-6cf1-4ab8-bae3-87649af62923",
   "metadata": {},
   "source": [
    "We will now visualise the data as we did before integrated. We calculate a new UMAP embedding but instead of finding nearest neighbours in PCA space we start with the corrected representation from **scVI**."
   ]
  },
  {
   "cell_type": "code",
   "execution_count": null,
   "id": "cd09d398-bf54-46a1-bade-711cb05662fa",
   "metadata": {},
   "outputs": [],
   "source": [
    "sc.pp.neighbors(adata_scvi, use_rep=\"X_scVI\")\n",
    "sc.tl.umap(adata_scvi)\n",
    "adata_scvi"
   ]
  },
  {
   "cell_type": "markdown",
   "id": "59d83a5b-25c8-4919-b766-c863c9daf148",
   "metadata": {},
   "source": [
    "Once we have the new UMAP representation we can plot it coloured by batch and identity labels as before."
   ]
  },
  {
   "cell_type": "code",
   "execution_count": null,
   "id": "f6a68931-1346-4d5f-a017-926a8c29e1d9",
   "metadata": {},
   "outputs": [],
   "source": [
    "sc.pl.umap(adata_scvi, color=[label_key, batch_key])"
   ]
  },
  {
   "cell_type": "markdown",
   "id": "f29df77f-dead-45a8-8030-e3bfcc079f5e",
   "metadata": {},
   "source": [
    "This looks much better! Before the various batches were separated and the same cell identity in different batches were far apart from each other. Now the batches are all mixed with each other and we have a single blob for each cell identity label.\n",
    "\n",
    "In many cases we would not already have identity labels so from this stage we would continue with clustering, annotation and further analysis as described in other sections."
   ]
  },
  {
   "cell_type": "markdown",
   "id": "88da50d0-d51f-4bb2-bf69-3a9fa6ec5165",
   "metadata": {},
   "source": [
    "## Integrating with scANVI"
   ]
  },
  {
   "cell_type": "markdown",
   "id": "7698a47a-2b78-4594-a0d1-c3f02fae9003",
   "metadata": {},
   "source": [
    "When performing integration with **scVI** we pretended that we didn't already have any cell labels (although we showed them in plots). While this scenario is common there are some cases where we do know something about cell identity in advance. Most often this is when we want to combine one or more publicly available datasets with data from a new study. When we have labels for at least some of the cells we can used **scANVI**. This is an extension of the **scVI** model that knows about cell labels as well as batches. Because it has this extra information it can try to keep the differences between cell labels while removing batch effects. Benchmarking suggests that **scANVI** tends to better preserve biological signals compared to **scVI** but sometimes it is not as effective at removing batch effects. While we have labels for all cells here it is also possible to use **scANVI** in a semi-supervised manner where labels are only provided for some cells.\n",
    "\n",
    "> **Label harmonization**\n",
    ">\n",
    "> If you are using **scANVI** to integrate multiple datasets for which you already have labels it is important to first perform _label harmonization_.\n",
    "> This refers to a process of checking that labels are consistent across the datasets that are being integrated.\n",
    "> How best to do this is an open question but often requires input from subject-matter experts.\n",
    "\n",
    "We start by setting up our AnnData object as before, but now we provide a label key as well as the batch key."
   ]
  },
  {
   "cell_type": "code",
   "execution_count": null,
   "id": "659665b8-5b9c-409f-9db6-83c0c9a9c17d",
   "metadata": {},
   "outputs": [],
   "source": [
    "adata_scanvi = adata_scvi.copy()\n",
    "scvi.model.SCANVI.setup_anndata(adata_scanvi, layer=\"counts\", batch_key=batch_key, labels_key=label_key)\n",
    "scvi.data.view_anndata_setup(adata_scanvi)"
   ]
  },
  {
   "cell_type": "markdown",
   "id": "3857c707-63c9-4790-be18-ac14fe3d4c61",
   "metadata": {},
   "source": [
    "We can see that our setup now contains information about the cell identity labels.\n",
    "\n",
    "The next step is now to create a **scANVI** model object. Note that now we provide the **scVI** model from the previous section rather than the AnnData object. This is because **scANVI** works by refining the model from **scVI** using the cell labels. If we had not already created and trained an **scVI** model we would need to do that first before we could use **scANVI**.\n",
    "\n",
    "We also need to provide **scANVI** with a label for any cells without a label in the dataset. In this case all our cells are labelled so we just provide a dummy value but often it is important to make sure this is correct."
   ]
  },
  {
   "cell_type": "code",
   "execution_count": null,
   "id": "7f67bd4c-88ff-4ffc-8ffc-da7e85ac0e65",
   "metadata": {},
   "outputs": [],
   "source": [
    "model_scanvi = scvi.model.SCANVI.from_scvi_model(model_scvi, adata=adata_scanvi, unlabeled_category=\"unlabelled\")\n",
    "model_scanvi"
   ]
  },
  {
   "cell_type": "markdown",
   "id": "1a86948b-36ff-48e0-bd9a-74738d55fea8",
   "metadata": {},
   "source": [
    "This model object is very similar to what we saw before for **scVI**. As mentioned previously we could modify the structure of the model network but here we just use the default.\n",
    "\n",
    "Again we have a heuristic for selecting the number of training epochs. Note that this is much fewer than before as we are just refining the **scVI** model, rather than training a whole network from scratch."
   ]
  },
  {
   "cell_type": "code",
   "execution_count": null,
   "id": "33af3bbc-6a34-4797-be80-dd192fb647ab",
   "metadata": {},
   "outputs": [],
   "source": [
    "max_epochs_scanvi = int(np.min([10, np.max([2, round(max_epochs_scvi / 3.0)])]))\n",
    "model_scanvi.train(max_epochs=max_epochs_scanvi)"
   ]
  },
  {
   "cell_type": "markdown",
   "id": "1908c8bb-89dc-4cf0-9132-272c6a454afd",
   "metadata": {},
   "source": [
    "We can extract the new latent representation from the model and create a new UMAP embedding as we did for **scVI**."
   ]
  },
  {
   "cell_type": "code",
   "execution_count": null,
   "id": "99a7a7c1-1f71-4455-9238-2b7ff1ba62ff",
   "metadata": {},
   "outputs": [],
   "source": [
    "adata_scanvi.obsm[\"X_scANVI\"] = model_scanvi.get_latent_representation()\n",
    "sc.pp.neighbors(adata_scanvi, use_rep=\"X_scANVI\")\n",
    "sc.tl.umap(adata_scanvi)\n",
    "sc.pl.umap(adata_scanvi, color=[label_key, batch_key])"
   ]
  },
  {
   "cell_type": "markdown",
   "id": "a89b56b0-6111-4be1-8855-0a2db59e0cf3",
   "metadata": {},
   "source": [
    "By looking at the UMAP representation it is difficult to tell the difference between **scANVI** and **scVI** but when the effect of the refinement has been quantified it has been shown to often better preserve biological variation."
   ]
  },
  {
   "cell_type": "markdown",
   "id": "179d4119-fb74-4bbe-8e90-95993fa797f4",
   "metadata": {},
   "source": [
    "## BBKNN"
   ]
  },
  {
   "cell_type": "markdown",
   "id": "5b1d0642",
   "metadata": {},
   "source": [
    "The next method we will look at is **BBKNN** or \"Batch Balanced KNN\". This is a very different approach to **scVI**, rather than using a neural network to embed cells in a batch-corrected space it instead modifies how the KNN graph used for clustering and embedding is constructed. As we have seen in previous chapters the normal KNN procedure connects cells to the most similar cells across the whole dataset. The change that **BBKNN** makes is to enforce that cells are connected to cells from other batches. While this is a simple modification it can be quite effective, particularly when there are very strong batch effects. However, as the result is an integrated graph it can have limited downstream uses as few packages will accept this as an input.\n",
    "\n",
    "An important parameter for **BBKNN** is the number of neighbours per batch. A suggested heuristic for this is to use 25 if there are less than 10000 cells or the default of 3 if there are more than 10000."
   ]
  },
  {
   "cell_type": "code",
   "execution_count": null,
   "id": "93c1b3d9-d012-40bb-b023-cbfec156b1f4",
   "metadata": {},
   "outputs": [],
   "source": [
    "neighbors_within_batch = 25 if adata_hvg.n_obs > 10000 else 3"
   ]
  },
  {
   "cell_type": "markdown",
   "id": "c4e21473",
   "metadata": {},
   "source": [
    "Before using **BBKNN** we first perform a PCA as we would before building a normal KNN graph. Unlike **scVI** which models raw counts here we start with the log-normalised expression matrix."
   ]
  },
  {
   "cell_type": "code",
   "execution_count": null,
   "id": "97bd01e4-397f-4264-a450-6d1734c019a4",
   "metadata": {},
   "outputs": [],
   "source": [
    "adata_bbknn = adata_hvg.copy()\n",
    "adata_bbknn.X = adata_bbknn.layers[\"logcounts\"]\n",
    "sc.pp.pca(adata_bbknn)"
   ]
  },
  {
   "cell_type": "markdown",
   "id": "e4b73890",
   "metadata": {},
   "source": [
    "We can now run **BBKNN**, replacing the call to the **scanpy** `neighbors()` function in a standard workflow. An important difference is to make sure the `batch_key` argument is set which specifies a column in `adata_hvg.obs` which contains batch labels."
   ]
  },
  {
   "cell_type": "code",
   "execution_count": null,
   "id": "4169c1f7",
   "metadata": {},
   "outputs": [],
   "source": [
    "bbknn.bbknn(adata_bbknn, batch_key=batch_key, neighbors_within_batch=neighbors_within_batch)\n",
    "adata_bbknn"
   ]
  },
  {
   "cell_type": "markdown",
   "id": "86cf96aa",
   "metadata": {},
   "source": [
    "Unlike the default **scanpy** function **BBKNN** does not allow specifying a key for storing results so they are always stored under the default \"neighours\" key.\n",
    "\n",
    "We can use this new integrated graph just like we would a normal KNN graph to construct a UMAP embedding."
   ]
  },
  {
   "cell_type": "code",
   "execution_count": null,
   "id": "a8a048ce-5b85-4778-a37e-2f5f18eb2041",
   "metadata": {},
   "outputs": [],
   "source": [
    "sc.tl.umap(adata_bbknn)\n",
    "sc.pl.umap(adata_bbknn, color=[label_key, batch_key])"
   ]
  },
  {
   "cell_type": "markdown",
   "id": "f7c4a891",
   "metadata": {},
   "source": [
    "This integration is also much improved compared to the unintegrated data with cell identities grouped together and batches clearly mixed."
   ]
  },
  {
   "cell_type": "markdown",
   "id": "1255e3f4-c6b4-4c46-8a88-8367b8df6055",
   "metadata": {},
   "source": [
    "## ComBat"
   ]
  },
  {
   "cell_type": "markdown",
   "id": "e341e537",
   "metadata": {},
   "source": [
    "Some downstream applications cannot accept an integrated embedding or neighbourhood graph and require a corrected expression matrix. One method that can produce this output is **ComBat**. This is an old method originally designed for microarray data that uses an empirical Bayes approach to centre and scale the expression matrix. While this is not usually among the best methods in benchmarking studies it has the advantages of being very quick to run, easier to interpret (due to a linear correction) and producing a corrected expression matrix.\n",
    "\n",
    "There are several implementations of **ComBat** available, here we use the one in **scanpy**. Using **ComBat** is very simple, we just supply an AnnData object and a key specifying the batch variable to remove. Note that **ComBat** expects log-normalised data as input (there is a newer variant which operates directly on counts called **ComBat-seq** but we don't show that here). Once we have the corrected expression matrix we store it as a new layer called \"combat\"."
   ]
  },
  {
   "cell_type": "code",
   "execution_count": null,
   "id": "45257dff-e9da-442f-8093-eda2a3a395c8",
   "metadata": {},
   "outputs": [],
   "source": [
    "adata_combat = adata_hvg.copy()\n",
    "adata_combat.X = adata_combat.layers[\"logcounts\"]\n",
    "sc.pp.combat(adata_combat, key=batch_key, inplace=True)\n",
    "adata_combat.layers[\"combat\"] = adata_combat.X\n",
    "adata_combat"
   ]
  },
  {
   "cell_type": "markdown",
   "id": "726d75aa",
   "metadata": {},
   "source": [
    "The corrected expression matrix can then be analysed as normal, except that now the batch effects should be removed. Let's make a UMAP as we have done for the other methods."
   ]
  },
  {
   "cell_type": "code",
   "execution_count": null,
   "id": "1090ac52-8ba1-40d8-aff3-1827ff5f9ec5",
   "metadata": {},
   "outputs": [],
   "source": [
    "sc.pp.pca(adata_combat)\n",
    "sc.pp.neighbors(adata_combat)\n",
    "sc.tl.umap(adata_combat)\n",
    "sc.pl.umap(adata_combat, color=[label_key, batch_key])"
   ]
  },
  {
   "cell_type": "markdown",
   "id": "7bf95d4b",
   "metadata": {},
   "source": [
    "While the cell labels are now better grouped the mixing between batches is not as complete as we have seen with other methods. However, while looking at a UMAP can tell you if there are very clear batch effects it is not the best way to evaluate an integration and it is important not to over interpret it. In the next section we present some approaches to more rigorously evaluate integration methods."
   ]
  },
  {
   "cell_type": "markdown",
   "id": "2ca76892-58b2-48ef-bf59-6df49f5272da",
   "metadata": {},
   "source": [
    "## Benchmarking your own integration"
   ]
  },
  {
   "cell_type": "markdown",
   "id": "cd082b86-3185-4e32-9589-061ad7acf772",
   "metadata": {},
   "source": [
    "* How to use scIB\n",
    "* Interpreting benchmarks?\n",
    "* Probably just text (hard to run all the methods, could maybe compare whatever methods are run)"
   ]
  },
  {
   "cell_type": "code",
   "execution_count": null,
   "id": "b5c847fe",
   "metadata": {},
   "outputs": [],
   "source": [
    "metrics_scvi = scib.metrics.metrics_fast(adata, adata_scvi, batch_key, label_key, embed=\"X_scVI\")\n",
    "metrics_scanvi = scib.metrics.metrics_fast(adata, adata_scanvi, batch_key, label_key, embed=\"X_scANVI\")\n",
    "metrics_bbknn = scib.metrics.metrics_fast(adata, adata_bbknn, batch_key, label_key)\n",
    "metrics_combat = scib.metrics.metrics_fast(adata, adata_combat, batch_key, label_key)\n",
    "metrics_hvg = scib.metrics.metrics_fast(adata, adata_hvg, batch_key, label_key)"
   ]
  },
  {
   "cell_type": "code",
   "execution_count": null,
   "id": "fc53f3d2",
   "metadata": {},
   "outputs": [],
   "source": [
    "# Concatenate metrics results\n",
    "metrics = pd.concat([metrics_scvi, metrics_scanvi, metrics_bbknn, metrics_combat, metrics_hvg], axis=\"columns\")\n",
    "# Set methods as column names\n",
    "metrics = metrics.set_axis([\"scVI\", \"scANVI\", \"BBKNN\", \"ComBat\", \"Unintegrated\"], axis=\"columns\")\n",
    "# Set only the fast metrics\n",
    "metrics = metrics.loc[[\"ASW_label\", \"ASW_label/batch\", \"PCR_batch\", \"isolated_label_silhouette\", \"graph_conn\", \"hvg_overlap\"], :]\n",
    "# Transpose so that metrics are columns and methods are rows\n",
    "metrics = metrics.T\n",
    "metrics"
   ]
  },
  {
   "cell_type": "code",
   "execution_count": null,
   "id": "b6ca8fbd",
   "metadata": {},
   "outputs": [],
   "source": [
    "metrics.style.background_gradient(cmap=\"Blues\")"
   ]
  },
  {
   "cell_type": "code",
   "execution_count": null,
   "id": "1c01aa51",
   "metadata": {},
   "outputs": [],
   "source": [
    "metrics_scaled = (metrics - metrics.min()) / (metrics.max() - metrics.min())\n",
    "metrics_scaled.style.background_gradient(cmap=\"Blues\")"
   ]
  },
  {
   "cell_type": "code",
   "execution_count": null,
   "id": "3c9147a5",
   "metadata": {},
   "outputs": [],
   "source": [
    "metrics_scaled[\"Batch\"] = metrics_scaled[[\"ASW_label/batch\", \"PCR_batch\", \"graph_conn\"]].mean(axis=1)\n",
    "metrics_scaled[\"Bio\"] = metrics_scaled[[\"ASW_label\", \"isolated_label_silhouette\", \"hvg_overlap\"]].mean(axis=1)\n",
    "metrics_scaled.style.background_gradient(cmap=\"Blues\")"
   ]
  },
  {
   "cell_type": "code",
   "execution_count": null,
   "id": "1adea52c",
   "metadata": {},
   "outputs": [],
   "source": [
    "fig, ax = plt.subplots()\n",
    "ax.set_xlim(0, 1)\n",
    "ax.set_ylim(0, 1)\n",
    "metrics_scaled.plot.scatter(\n",
    "    x=\"Batch\",\n",
    "    y=\"Bio\",\n",
    "    c=range(len(metrics_scaled)),\n",
    "    colormap=matplotlib.cm.get_cmap(\"Set1\"),\n",
    "    ax=ax\n",
    ")\n",
    "\n",
    "for k, v in metrics_scaled[[\"Batch\", \"Bio\"]].iterrows():\n",
    "    ax.annotate(\n",
    "        k, v,\n",
    "        xytext=(6, -3),\n",
    "        textcoords=\"offset points\",\n",
    "        family=\"sans-serif\",\n",
    "        fontsize=12\n",
    "    )"
   ]
  },
  {
   "cell_type": "code",
   "execution_count": null,
   "id": "b9a96df7",
   "metadata": {},
   "outputs": [],
   "source": [
    "metrics_scaled[\"Overall\"] = 0.4 * metrics_scaled[\"Batch\"] + 0.6 * metrics_scaled[\"Bio\"]\n",
    "metrics_scaled.style.background_gradient(cmap=\"Blues\")"
   ]
  },
  {
   "cell_type": "code",
   "execution_count": null,
   "id": "7c140fe2",
   "metadata": {},
   "outputs": [],
   "source": [
    "metrics_scaled.plot.bar(y = \"Overall\")"
   ]
  },
  {
   "cell_type": "markdown",
   "id": "36ffb412-d8e2-471e-bdf9-77ef33891fe9",
   "metadata": {},
   "source": [
    "## Session information"
   ]
  },
  {
   "cell_type": "code",
   "execution_count": null,
   "id": "b92f706f-d575-4f17-821e-b257d1bc6a29",
   "metadata": {},
   "outputs": [],
   "source": [
    "import session_info\n",
    "\n",
    "session_info.show()"
   ]
  }
 ],
 "metadata": {
  "kernelspec": {
   "display_name": "Python 3 (ipykernel)",
   "language": "python",
   "name": "python3"
  },
  "language_info": {
   "codemirror_mode": {
    "name": "ipython",
    "version": 3
   },
   "file_extension": ".py",
   "mimetype": "text/x-python",
   "name": "python",
   "nbconvert_exporter": "python",
   "pygments_lexer": "ipython3",
   "version": "3.8.0"
  }
 },
 "nbformat": 4,
 "nbformat_minor": 5
}
